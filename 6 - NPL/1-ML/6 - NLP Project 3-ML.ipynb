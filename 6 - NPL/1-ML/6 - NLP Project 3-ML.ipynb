{
 "cells": [
  {
   "cell_type": "markdown",
   "metadata": {
    "colab_type": "text",
    "id": "hNO2NHUnvrFK"
   },
   "source": [
    "## Import common libraries"
   ]
  },
  {
   "cell_type": "code",
   "execution_count": 1,
   "metadata": {
    "colab": {},
    "colab_type": "code",
    "id": "TPh8NUMNvrFM"
   },
   "outputs": [],
   "source": [
    "import numpy as np\n",
    "import matplotlib.pyplot as plt\n",
    "import pandas as pd\n",
    "import seaborn as sns\n",
    "from IPython.display import display, HTML\n",
    "%matplotlib inline"
   ]
  },
  {
   "cell_type": "code",
   "execution_count": 2,
   "metadata": {
    "colab": {
     "base_uri": "https://localhost:8080/",
     "height": 122
    },
    "colab_type": "code",
    "executionInfo": {
     "elapsed": 74127,
     "status": "ok",
     "timestamp": 1585544673253,
     "user": {
      "displayName": "Erpan Arkin",
      "photoUrl": "https://lh3.googleusercontent.com/a-/AOh14Gj3UJtwmE1NDhh1eTkAcxnEuYczpl4z2bIhzbOoEQ=s64",
      "userId": "05562026866292886888"
     },
     "user_tz": 420
    },
    "id": "_YjbSFfLw_Pl",
    "outputId": "8482be5d-ab54-4831-c793-af7935f326b7",
    "scrolled": true
   },
   "outputs": [],
   "source": [
    "#from google.colab import drive\n",
    "#drive.mount('/content/drive')"
   ]
  },
  {
   "cell_type": "code",
   "execution_count": 5,
   "metadata": {
    "colab": {},
    "colab_type": "code",
    "id": "Zmah0qmkvrFW"
   },
   "outputs": [],
   "source": [
    "# read csv file\n",
    "yelp = pd.read_csv('yelp_training_set_review(with text_length and transformed)-new.csv')"
   ]
  },
  {
   "cell_type": "code",
   "execution_count": 6,
   "metadata": {
    "colab": {
     "base_uri": "https://localhost:8080/",
     "height": 204
    },
    "colab_type": "code",
    "executionInfo": {
     "elapsed": 79434,
     "status": "ok",
     "timestamp": 1585544678583,
     "user": {
      "displayName": "Erpan Arkin",
      "photoUrl": "https://lh3.googleusercontent.com/a-/AOh14Gj3UJtwmE1NDhh1eTkAcxnEuYczpl4z2bIhzbOoEQ=s64",
      "userId": "05562026866292886888"
     },
     "user_tz": 420
    },
    "id": "0Vu5XBkrvrFd",
    "outputId": "390f76d5-8499-4215-a9a5-5482cafdf48a",
    "scrolled": false
   },
   "outputs": [
    {
     "data": {
      "text/html": [
       "<div>\n",
       "<style scoped>\n",
       "    .dataframe tbody tr th:only-of-type {\n",
       "        vertical-align: middle;\n",
       "    }\n",
       "\n",
       "    .dataframe tbody tr th {\n",
       "        vertical-align: top;\n",
       "    }\n",
       "\n",
       "    .dataframe thead th {\n",
       "        text-align: right;\n",
       "    }\n",
       "</style>\n",
       "<table border=\"1\" class=\"dataframe\">\n",
       "  <thead>\n",
       "    <tr style=\"text-align: right;\">\n",
       "      <th></th>\n",
       "      <th>stars</th>\n",
       "      <th>text_transformed</th>\n",
       "      <th>funny</th>\n",
       "      <th>text_length</th>\n",
       "    </tr>\n",
       "  </thead>\n",
       "  <tbody>\n",
       "    <tr>\n",
       "      <th>0</th>\n",
       "      <td>5</td>\n",
       "      <td>wife took birthday breakfast excellent weather...</td>\n",
       "      <td>0</td>\n",
       "      <td>77</td>\n",
       "    </tr>\n",
       "    <tr>\n",
       "      <th>1</th>\n",
       "      <td>5</td>\n",
       "      <td>idea people give bad reviews place goes show p...</td>\n",
       "      <td>0</td>\n",
       "      <td>111</td>\n",
       "    </tr>\n",
       "    <tr>\n",
       "      <th>2</th>\n",
       "      <td>4</td>\n",
       "      <td>love gyro plate Rice good also dig candy selec...</td>\n",
       "      <td>0</td>\n",
       "      <td>9</td>\n",
       "    </tr>\n",
       "    <tr>\n",
       "      <th>3</th>\n",
       "      <td>5</td>\n",
       "      <td>Rosie Dakota LOVE Chaparral Dog Park convenien...</td>\n",
       "      <td>0</td>\n",
       "      <td>44</td>\n",
       "    </tr>\n",
       "    <tr>\n",
       "      <th>4</th>\n",
       "      <td>5</td>\n",
       "      <td>General Manager Scott Petello good egg go deta...</td>\n",
       "      <td>0</td>\n",
       "      <td>38</td>\n",
       "    </tr>\n",
       "  </tbody>\n",
       "</table>\n",
       "</div>"
      ],
      "text/plain": [
       "   stars                                   text_transformed  funny  \\\n",
       "0      5  wife took birthday breakfast excellent weather...      0   \n",
       "1      5  idea people give bad reviews place goes show p...      0   \n",
       "2      4  love gyro plate Rice good also dig candy selec...      0   \n",
       "3      5  Rosie Dakota LOVE Chaparral Dog Park convenien...      0   \n",
       "4      5  General Manager Scott Petello good egg go deta...      0   \n",
       "\n",
       "   text_length  \n",
       "0           77  \n",
       "1          111  \n",
       "2            9  \n",
       "3           44  \n",
       "4           38  "
      ]
     },
     "execution_count": 6,
     "metadata": {},
     "output_type": "execute_result"
    }
   ],
   "source": [
    "# make sure the text column is type string\n",
    "yelp['text_transformed'] = yelp['text_transformed'].astype('str')\n",
    "yelp[['stars','text_transformed','funny', 'text_length']].head()"
   ]
  },
  {
   "cell_type": "markdown",
   "metadata": {
    "colab_type": "text",
    "id": "8ey0JPKEvrFl"
   },
   "source": [
    "### Lets focus for now on star 1 and 5 only."
   ]
  },
  {
   "cell_type": "code",
   "execution_count": 16,
   "metadata": {
    "colab": {
     "base_uri": "https://localhost:8080/",
     "height": 34
    },
    "colab_type": "code",
    "executionInfo": {
     "elapsed": 79418,
     "status": "ok",
     "timestamp": 1585544678583,
     "user": {
      "displayName": "Erpan Arkin",
      "photoUrl": "https://lh3.googleusercontent.com/a-/AOh14Gj3UJtwmE1NDhh1eTkAcxnEuYczpl4z2bIhzbOoEQ=s64",
      "userId": "05562026866292886888"
     },
     "user_tz": 420
    },
    "id": "dMdxFnigvrFm",
    "outputId": "66582e0c-debd-4445-c2fe-98aa4c346045"
   },
   "outputs": [
    {
     "data": {
      "text/plain": [
       "74966"
      ]
     },
     "execution_count": 16,
     "metadata": {},
     "output_type": "execute_result"
    }
   ],
   "source": [
    "yelp_class = yelp[(yelp.stars==1) | (yelp.stars==5)].copy()\n",
    "yelp_class.dropna(inplace=True)\n",
    "yelp_class = yelp_class.sample(frac=0.8, random_state=101)\n",
    "X = yelp_class['text_transformed']\n",
    "y = yelp_class['stars']\n",
    "len(yelp_class)"
   ]
  },
  {
   "cell_type": "code",
   "execution_count": 8,
   "metadata": {
    "colab": {},
    "colab_type": "code",
    "id": "NXVy4A_KvrFs"
   },
   "outputs": [],
   "source": [
    "from sklearn.feature_extraction.text import CountVectorizer, HashingVectorizer\n",
    "from sklearn.model_selection import train_test_split, cross_val_score\n",
    "from sklearn.naive_bayes import MultinomialNB\n",
    "from sklearn.metrics import confusion_matrix,classification_report\n",
    "from sklearn.model_selection import GridSearchCV\n",
    "from sklearn.svm import SVC,LinearSVC\n",
    "from sklearn.preprocessing import StandardScaler"
   ]
  },
  {
   "cell_type": "markdown",
   "metadata": {
    "colab_type": "text",
    "id": "jMYoVIRwvrFw"
   },
   "source": [
    "### Training a Support Vector Machine classifier and report cross-validated score"
   ]
  },
  {
   "cell_type": "code",
   "execution_count": 9,
   "metadata": {
    "colab": {},
    "colab_type": "code",
    "id": "vGmrpiIivrFw"
   },
   "outputs": [],
   "source": [
    "compare_models = {}\n",
    "def lscv_model(X_train, X_test, y_train, y_test, model_name):\n",
    "    '''\n",
    "    train a scv model and return cross-validated score\n",
    "    '''\n",
    "    svm = LinearSVC(max_iter=100000)\n",
    "    svm.fit(X_train,y_train)\n",
    "    #scores = cross_val_score(svm, X_train, y_train, cv=5)\n",
    "    y_pred_svm = svm.predict(X_test)\n",
    "    compare_models[model_name] = {'mean':svm.score(X_test,y_test)}\n",
    "    #compare_models[model_name]['cv_score'] = f'mean:{round(scores.mean(),5)}±{round(scores.std(),5)}'\n",
    "    for i in ['1','5']:\n",
    "        compare_models[model_name][i]=classification_report(y_test,y_pred_svm,output_dict=True)[i]['f1-score']"
   ]
  },
  {
   "cell_type": "markdown",
   "metadata": {
    "colab_type": "text",
    "id": "8F1CqwlHvrF0"
   },
   "source": [
    "## 1. Features engineering\n",
    "Whether features in addition to text itself would be usefull?\n",
    "## 2. Data imbalance\n",
    "How to balance the data to overcome biased prediction?\n",
    "## 3. Skewed distribution\n",
    "Whether unskewing distribution improve accuracy?\n",
    "## 4. Effect of n-grams\n",
    "Whether including phases improve the mode as compared to just words?\n",
    "## 5. Effect of tf-idf\n",
    "Whether too frequent words introducing too much noise?\n",
    "## 6. Tuning hyperparameters\n",
    "How to find the optimal hyperparameters?"
   ]
  },
  {
   "cell_type": "markdown",
   "metadata": {
    "colab_type": "text",
    "id": "SDx7uMNavrF1"
   },
   "source": [
    "## 1. Features engineering: compare text-only vs text+funny+text_length"
   ]
  },
  {
   "cell_type": "code",
   "execution_count": 17,
   "metadata": {
    "colab": {},
    "colab_type": "code",
    "id": "s3qwYHNlvrF2"
   },
   "outputs": [],
   "source": [
    "cv = CountVectorizer()\n",
    "X_vector = cv.fit_transform(X)"
   ]
  },
  {
   "cell_type": "code",
   "execution_count": 8,
   "metadata": {
    "colab": {},
    "colab_type": "code",
    "id": "s3qwYHNlvrF2"
   },
   "outputs": [
    {
     "name": "stdout",
     "output_type": "stream",
     "text": [
      "                          LSVC\n",
      "1                     0.861988\n",
      "5                     0.969196\n",
      "cv_score  mean:0.94771±0.00178\n",
      "mean                  0.949634\n"
     ]
    }
   ],
   "source": [
    "compare_models = {}\n",
    "X_train, X_test, y_train, y_test = train_test_split(X_vector, y, test_size=0.3, random_state=1)\n",
    "lscv_model(X_train, X_test, y_train, y_test,'LSVC')\n",
    "print(pd.DataFrame(compare_models))"
   ]
  },
  {
   "cell_type": "code",
   "execution_count": 18,
   "metadata": {
    "colab": {
     "base_uri": "https://localhost:8080/",
     "height": 253
    },
    "colab_type": "code",
    "executionInfo": {
     "elapsed": 124797,
     "status": "ok",
     "timestamp": 1585544723998,
     "user": {
      "displayName": "Erpan Arkin",
      "photoUrl": "https://lh3.googleusercontent.com/a-/AOh14Gj3UJtwmE1NDhh1eTkAcxnEuYczpl4z2bIhzbOoEQ=s64",
      "userId": "05562026866292886888"
     },
     "user_tz": 420
    },
    "id": "SrVrA4FSvrF5",
    "outputId": "7ecd775e-5dbe-4bf1-e9f1-46f5396b267c"
   },
   "outputs": [
    {
     "data": {
      "text/html": [
       "<div>\n",
       "<style scoped>\n",
       "    .dataframe tbody tr th:only-of-type {\n",
       "        vertical-align: middle;\n",
       "    }\n",
       "\n",
       "    .dataframe tbody tr th {\n",
       "        vertical-align: top;\n",
       "    }\n",
       "\n",
       "    .dataframe thead th {\n",
       "        text-align: right;\n",
       "    }\n",
       "</style>\n",
       "<table border=\"1\" class=\"dataframe\">\n",
       "  <thead>\n",
       "    <tr style=\"text-align: right;\">\n",
       "      <th></th>\n",
       "      <th>aa</th>\n",
       "      <th>aaa</th>\n",
       "      <th>aaaa</th>\n",
       "      <th>aaaaa</th>\n",
       "      <th>aaaaaa</th>\n",
       "      <th>aaaaaaaaaaaamaaaaaaaaaaaazzzzzzzzzzzzzzeeeeeeeeeeee</th>\n",
       "      <th>aaaaaaaaaaack</th>\n",
       "      <th>aaaaaaaaaahhhhhhhhhhhhhhh</th>\n",
       "      <th>aaaaaaah</th>\n",
       "      <th>aaaaaaahhh</th>\n",
       "      <th>...</th>\n",
       "      <th>ça</th>\n",
       "      <th>çarradinhas</th>\n",
       "      <th>çe</th>\n",
       "      <th>éclairs</th>\n",
       "      <th>école</th>\n",
       "      <th>élysées</th>\n",
       "      <th>ém</th>\n",
       "      <th>étouffée</th>\n",
       "      <th>über</th>\n",
       "      <th>überraschungseier</th>\n",
       "    </tr>\n",
       "  </thead>\n",
       "  <tbody>\n",
       "    <tr>\n",
       "      <th>0</th>\n",
       "      <td>0</td>\n",
       "      <td>0</td>\n",
       "      <td>0</td>\n",
       "      <td>0</td>\n",
       "      <td>0</td>\n",
       "      <td>0</td>\n",
       "      <td>0</td>\n",
       "      <td>0</td>\n",
       "      <td>0</td>\n",
       "      <td>0</td>\n",
       "      <td>...</td>\n",
       "      <td>0</td>\n",
       "      <td>0</td>\n",
       "      <td>0</td>\n",
       "      <td>0</td>\n",
       "      <td>0</td>\n",
       "      <td>0</td>\n",
       "      <td>0</td>\n",
       "      <td>0</td>\n",
       "      <td>0</td>\n",
       "      <td>0</td>\n",
       "    </tr>\n",
       "    <tr>\n",
       "      <th>1</th>\n",
       "      <td>0</td>\n",
       "      <td>0</td>\n",
       "      <td>0</td>\n",
       "      <td>0</td>\n",
       "      <td>0</td>\n",
       "      <td>0</td>\n",
       "      <td>0</td>\n",
       "      <td>0</td>\n",
       "      <td>0</td>\n",
       "      <td>0</td>\n",
       "      <td>...</td>\n",
       "      <td>0</td>\n",
       "      <td>0</td>\n",
       "      <td>0</td>\n",
       "      <td>0</td>\n",
       "      <td>0</td>\n",
       "      <td>0</td>\n",
       "      <td>0</td>\n",
       "      <td>0</td>\n",
       "      <td>0</td>\n",
       "      <td>0</td>\n",
       "    </tr>\n",
       "    <tr>\n",
       "      <th>2</th>\n",
       "      <td>0</td>\n",
       "      <td>0</td>\n",
       "      <td>0</td>\n",
       "      <td>0</td>\n",
       "      <td>0</td>\n",
       "      <td>0</td>\n",
       "      <td>0</td>\n",
       "      <td>0</td>\n",
       "      <td>0</td>\n",
       "      <td>0</td>\n",
       "      <td>...</td>\n",
       "      <td>0</td>\n",
       "      <td>0</td>\n",
       "      <td>0</td>\n",
       "      <td>0</td>\n",
       "      <td>0</td>\n",
       "      <td>0</td>\n",
       "      <td>0</td>\n",
       "      <td>0</td>\n",
       "      <td>0</td>\n",
       "      <td>0</td>\n",
       "    </tr>\n",
       "    <tr>\n",
       "      <th>3</th>\n",
       "      <td>0</td>\n",
       "      <td>0</td>\n",
       "      <td>0</td>\n",
       "      <td>0</td>\n",
       "      <td>0</td>\n",
       "      <td>0</td>\n",
       "      <td>0</td>\n",
       "      <td>0</td>\n",
       "      <td>0</td>\n",
       "      <td>0</td>\n",
       "      <td>...</td>\n",
       "      <td>0</td>\n",
       "      <td>0</td>\n",
       "      <td>0</td>\n",
       "      <td>0</td>\n",
       "      <td>0</td>\n",
       "      <td>0</td>\n",
       "      <td>0</td>\n",
       "      <td>0</td>\n",
       "      <td>0</td>\n",
       "      <td>0</td>\n",
       "    </tr>\n",
       "    <tr>\n",
       "      <th>4</th>\n",
       "      <td>0</td>\n",
       "      <td>0</td>\n",
       "      <td>0</td>\n",
       "      <td>0</td>\n",
       "      <td>0</td>\n",
       "      <td>0</td>\n",
       "      <td>0</td>\n",
       "      <td>0</td>\n",
       "      <td>0</td>\n",
       "      <td>0</td>\n",
       "      <td>...</td>\n",
       "      <td>0</td>\n",
       "      <td>0</td>\n",
       "      <td>0</td>\n",
       "      <td>0</td>\n",
       "      <td>0</td>\n",
       "      <td>0</td>\n",
       "      <td>0</td>\n",
       "      <td>0</td>\n",
       "      <td>0</td>\n",
       "      <td>0</td>\n",
       "    </tr>\n",
       "  </tbody>\n",
       "</table>\n",
       "<p>5 rows × 67816 columns</p>\n",
       "</div>"
      ],
      "text/plain": [
       "   aa  aaa  aaaa  aaaaa  aaaaaa  \\\n",
       "0   0    0     0      0       0   \n",
       "1   0    0     0      0       0   \n",
       "2   0    0     0      0       0   \n",
       "3   0    0     0      0       0   \n",
       "4   0    0     0      0       0   \n",
       "\n",
       "   aaaaaaaaaaaamaaaaaaaaaaaazzzzzzzzzzzzzzeeeeeeeeeeee  aaaaaaaaaaack  \\\n",
       "0                                                  0                0   \n",
       "1                                                  0                0   \n",
       "2                                                  0                0   \n",
       "3                                                  0                0   \n",
       "4                                                  0                0   \n",
       "\n",
       "   aaaaaaaaaahhhhhhhhhhhhhhh  aaaaaaah  aaaaaaahhh  ...  ça  çarradinhas  çe  \\\n",
       "0                          0         0           0  ...   0            0   0   \n",
       "1                          0         0           0  ...   0            0   0   \n",
       "2                          0         0           0  ...   0            0   0   \n",
       "3                          0         0           0  ...   0            0   0   \n",
       "4                          0         0           0  ...   0            0   0   \n",
       "\n",
       "   éclairs  école  élysées  ém  étouffée  über  überraschungseier  \n",
       "0        0      0        0   0         0     0                  0  \n",
       "1        0      0        0   0         0     0                  0  \n",
       "2        0      0        0   0         0     0                  0  \n",
       "3        0      0        0   0         0     0                  0  \n",
       "4        0      0        0   0         0     0                  0  \n",
       "\n",
       "[5 rows x 67816 columns]"
      ]
     },
     "execution_count": 18,
     "metadata": {},
     "output_type": "execute_result"
    }
   ],
   "source": [
    "X_all_features = pd.DataFrame.sparse.from_spmatrix(X_vector,columns=cv.get_feature_names())\n",
    "X_all_features.head()"
   ]
  },
  {
   "cell_type": "code",
   "execution_count": 19,
   "metadata": {
    "colab": {
     "base_uri": "https://localhost:8080/",
     "height": 253
    },
    "colab_type": "code",
    "executionInfo": {
     "elapsed": 145403,
     "status": "ok",
     "timestamp": 1585544744627,
     "user": {
      "displayName": "Erpan Arkin",
      "photoUrl": "https://lh3.googleusercontent.com/a-/AOh14Gj3UJtwmE1NDhh1eTkAcxnEuYczpl4z2bIhzbOoEQ=s64",
      "userId": "05562026866292886888"
     },
     "user_tz": 420
    },
    "id": "vbs0x3hhvrF8",
    "outputId": "1136bf5a-f704-466c-b8a0-fe98cacd8872",
    "scrolled": false
   },
   "outputs": [
    {
     "data": {
      "text/html": [
       "<div>\n",
       "<style scoped>\n",
       "    .dataframe tbody tr th:only-of-type {\n",
       "        vertical-align: middle;\n",
       "    }\n",
       "\n",
       "    .dataframe tbody tr th {\n",
       "        vertical-align: top;\n",
       "    }\n",
       "\n",
       "    .dataframe thead th {\n",
       "        text-align: right;\n",
       "    }\n",
       "</style>\n",
       "<table border=\"1\" class=\"dataframe\">\n",
       "  <thead>\n",
       "    <tr style=\"text-align: right;\">\n",
       "      <th></th>\n",
       "      <th>aa</th>\n",
       "      <th>aaa</th>\n",
       "      <th>aaaa</th>\n",
       "      <th>aaaaa</th>\n",
       "      <th>aaaaaa</th>\n",
       "      <th>aaaaaaaaaaaamaaaaaaaaaaaazzzzzzzzzzzzzzeeeeeeeeeeee</th>\n",
       "      <th>aaaaaaaaaaack</th>\n",
       "      <th>aaaaaaaaaahhhhhhhhhhhhhhh</th>\n",
       "      <th>aaaaaaah</th>\n",
       "      <th>aaaaaaahhh</th>\n",
       "      <th>...</th>\n",
       "      <th>çarradinhas</th>\n",
       "      <th>çe</th>\n",
       "      <th>éclairs</th>\n",
       "      <th>école</th>\n",
       "      <th>élysées</th>\n",
       "      <th>ém</th>\n",
       "      <th>étouffée</th>\n",
       "      <th>über</th>\n",
       "      <th>überraschungseier</th>\n",
       "      <th>text_length</th>\n",
       "    </tr>\n",
       "  </thead>\n",
       "  <tbody>\n",
       "    <tr>\n",
       "      <th>0</th>\n",
       "      <td>0</td>\n",
       "      <td>0</td>\n",
       "      <td>0</td>\n",
       "      <td>0</td>\n",
       "      <td>0</td>\n",
       "      <td>0</td>\n",
       "      <td>0</td>\n",
       "      <td>0</td>\n",
       "      <td>0</td>\n",
       "      <td>0</td>\n",
       "      <td>...</td>\n",
       "      <td>0</td>\n",
       "      <td>0</td>\n",
       "      <td>0</td>\n",
       "      <td>0</td>\n",
       "      <td>0</td>\n",
       "      <td>0</td>\n",
       "      <td>0</td>\n",
       "      <td>0</td>\n",
       "      <td>0</td>\n",
       "      <td>0.485804</td>\n",
       "    </tr>\n",
       "    <tr>\n",
       "      <th>1</th>\n",
       "      <td>0</td>\n",
       "      <td>0</td>\n",
       "      <td>0</td>\n",
       "      <td>0</td>\n",
       "      <td>0</td>\n",
       "      <td>0</td>\n",
       "      <td>0</td>\n",
       "      <td>0</td>\n",
       "      <td>0</td>\n",
       "      <td>0</td>\n",
       "      <td>...</td>\n",
       "      <td>0</td>\n",
       "      <td>0</td>\n",
       "      <td>0</td>\n",
       "      <td>0</td>\n",
       "      <td>0</td>\n",
       "      <td>0</td>\n",
       "      <td>0</td>\n",
       "      <td>0</td>\n",
       "      <td>0</td>\n",
       "      <td>0.503797</td>\n",
       "    </tr>\n",
       "    <tr>\n",
       "      <th>2</th>\n",
       "      <td>0</td>\n",
       "      <td>0</td>\n",
       "      <td>0</td>\n",
       "      <td>0</td>\n",
       "      <td>0</td>\n",
       "      <td>0</td>\n",
       "      <td>0</td>\n",
       "      <td>0</td>\n",
       "      <td>0</td>\n",
       "      <td>0</td>\n",
       "      <td>...</td>\n",
       "      <td>0</td>\n",
       "      <td>0</td>\n",
       "      <td>0</td>\n",
       "      <td>0</td>\n",
       "      <td>0</td>\n",
       "      <td>0</td>\n",
       "      <td>0</td>\n",
       "      <td>0</td>\n",
       "      <td>0</td>\n",
       "      <td>0.971608</td>\n",
       "    </tr>\n",
       "    <tr>\n",
       "      <th>3</th>\n",
       "      <td>0</td>\n",
       "      <td>0</td>\n",
       "      <td>0</td>\n",
       "      <td>0</td>\n",
       "      <td>0</td>\n",
       "      <td>0</td>\n",
       "      <td>0</td>\n",
       "      <td>0</td>\n",
       "      <td>0</td>\n",
       "      <td>0</td>\n",
       "      <td>...</td>\n",
       "      <td>0</td>\n",
       "      <td>0</td>\n",
       "      <td>0</td>\n",
       "      <td>0</td>\n",
       "      <td>0</td>\n",
       "      <td>0</td>\n",
       "      <td>0</td>\n",
       "      <td>0</td>\n",
       "      <td>0</td>\n",
       "      <td>0.305876</td>\n",
       "    </tr>\n",
       "    <tr>\n",
       "      <th>4</th>\n",
       "      <td>0</td>\n",
       "      <td>0</td>\n",
       "      <td>0</td>\n",
       "      <td>0</td>\n",
       "      <td>0</td>\n",
       "      <td>0</td>\n",
       "      <td>0</td>\n",
       "      <td>0</td>\n",
       "      <td>0</td>\n",
       "      <td>0</td>\n",
       "      <td>...</td>\n",
       "      <td>0</td>\n",
       "      <td>0</td>\n",
       "      <td>0</td>\n",
       "      <td>0</td>\n",
       "      <td>0</td>\n",
       "      <td>0</td>\n",
       "      <td>0</td>\n",
       "      <td>0</td>\n",
       "      <td>0</td>\n",
       "      <td>0.899637</td>\n",
       "    </tr>\n",
       "  </tbody>\n",
       "</table>\n",
       "<p>5 rows × 67817 columns</p>\n",
       "</div>"
      ],
      "text/plain": [
       "   aa  aaa  aaaa  aaaaa  aaaaaa  \\\n",
       "0   0    0     0      0       0   \n",
       "1   0    0     0      0       0   \n",
       "2   0    0     0      0       0   \n",
       "3   0    0     0      0       0   \n",
       "4   0    0     0      0       0   \n",
       "\n",
       "   aaaaaaaaaaaamaaaaaaaaaaaazzzzzzzzzzzzzzeeeeeeeeeeee  aaaaaaaaaaack  \\\n",
       "0                                                  0                0   \n",
       "1                                                  0                0   \n",
       "2                                                  0                0   \n",
       "3                                                  0                0   \n",
       "4                                                  0                0   \n",
       "\n",
       "   aaaaaaaaaahhhhhhhhhhhhhhh  aaaaaaah  aaaaaaahhh  ...  çarradinhas  çe  \\\n",
       "0                          0         0           0  ...            0   0   \n",
       "1                          0         0           0  ...            0   0   \n",
       "2                          0         0           0  ...            0   0   \n",
       "3                          0         0           0  ...            0   0   \n",
       "4                          0         0           0  ...            0   0   \n",
       "\n",
       "   éclairs  école  élysées  ém  étouffée  über  überraschungseier  text_length  \n",
       "0        0      0        0   0         0     0                  0     0.485804  \n",
       "1        0      0        0   0         0     0                  0     0.503797  \n",
       "2        0      0        0   0         0     0                  0     0.971608  \n",
       "3        0      0        0   0         0     0                  0     0.305876  \n",
       "4        0      0        0   0         0     0                  0     0.899637  \n",
       "\n",
       "[5 rows x 67817 columns]"
      ]
     },
     "execution_count": 19,
     "metadata": {},
     "output_type": "execute_result"
    }
   ],
   "source": [
    "scaler = StandardScaler(with_mean=False)\n",
    "X_scaled = scaler.fit_transform(yelp_class[['text_length', 'funny']])\n",
    "X_all_features[['text_length', 'funny']] = pd.DataFrame(X_scaled)\n",
    "#X_all_features[['text_length', 'funny']] = yelp_class[['text_length', 'funny']].reset_index().drop(['index'],axis=1)\n",
    "X_all_features.head()"
   ]
  },
  {
   "cell_type": "code",
   "execution_count": 20,
   "metadata": {
    "colab": {},
    "colab_type": "code",
    "id": "BrqmEzgdvrGC",
    "outputId": "9126bc86-3b60-442a-9562-9b7e58fbc241"
   },
   "outputs": [],
   "source": [
    "compare_models = {}\n",
    "for i,j in zip([X_all_features.drop(['text_length', 'funny'], axis=1),\n",
    "                X_all_features.drop(['funny'], axis=1),\n",
    "                X_all_features], ['Text','Text+text_length','Text+text_length+funny']):\n",
    "    X_train, X_test, y_train, y_test = train_test_split(i, y, test_size=0.3, random_state=1)\n",
    "    lscv_model(X_train, X_test, y_train, y_test,j)"
   ]
  },
  {
   "cell_type": "code",
   "execution_count": 21,
   "metadata": {
    "colab": {},
    "colab_type": "code",
    "id": "BrqmEzgdvrGC",
    "outputId": "9126bc86-3b60-442a-9562-9b7e58fbc241"
   },
   "outputs": [
    {
     "data": {
      "text/html": [
       "<div>\n",
       "<style scoped>\n",
       "    .dataframe tbody tr th:only-of-type {\n",
       "        vertical-align: middle;\n",
       "    }\n",
       "\n",
       "    .dataframe tbody tr th {\n",
       "        vertical-align: top;\n",
       "    }\n",
       "\n",
       "    .dataframe thead th {\n",
       "        text-align: right;\n",
       "    }\n",
       "</style>\n",
       "<table border=\"1\" class=\"dataframe\">\n",
       "  <thead>\n",
       "    <tr style=\"text-align: right;\">\n",
       "      <th></th>\n",
       "      <th>Text</th>\n",
       "      <th>Text+text_length</th>\n",
       "      <th>Text+text_length+funny</th>\n",
       "    </tr>\n",
       "  </thead>\n",
       "  <tbody>\n",
       "    <tr>\n",
       "      <th>mean</th>\n",
       "      <td>0.953046</td>\n",
       "      <td>0.953179</td>\n",
       "      <td>0.952512</td>\n",
       "    </tr>\n",
       "    <tr>\n",
       "      <th>1</th>\n",
       "      <td>0.876231</td>\n",
       "      <td>0.876568</td>\n",
       "      <td>0.874912</td>\n",
       "    </tr>\n",
       "    <tr>\n",
       "      <th>5</th>\n",
       "      <td>0.971027</td>\n",
       "      <td>0.971110</td>\n",
       "      <td>0.970693</td>\n",
       "    </tr>\n",
       "  </tbody>\n",
       "</table>\n",
       "</div>"
      ],
      "text/plain": [
       "          Text  Text+text_length  Text+text_length+funny\n",
       "mean  0.953046          0.953179                0.952512\n",
       "1     0.876231          0.876568                0.874912\n",
       "5     0.971027          0.971110                0.970693"
      ]
     },
     "execution_count": 21,
     "metadata": {},
     "output_type": "execute_result"
    },
    {
     "data": {
      "image/png": "[encoded data removed]",
      "text/plain": [
       "<Figure size 432x288 with 1 Axes>"
      ]
     },
     "metadata": {
      "needs_background": "light"
     },
     "output_type": "display_data"
    }
   ],
   "source": [
    "#pd.DataFrame(compare_models).drop(columns='cv_score').plot(kind='bar', ylim=[0.8,1.0])\n",
    "pd.DataFrame(compare_models).plot(kind='bar', ylim=[0.8,1.0])\n",
    "plt.legend(loc=(1,0))\n",
    "plt.ylabel('score')\n",
    "pd.DataFrame(compare_models)"
   ]
  },
  {
   "cell_type": "markdown",
   "metadata": {
    "colab_type": "text",
    "id": "hrfpl9DKvrGF"
   },
   "source": [
    "## 2. Data imbalance\n",
    "- ### Oversampling and Undersampling"
   ]
  },
  {
   "cell_type": "code",
   "execution_count": 0,
   "metadata": {
    "colab": {},
    "colab_type": "code",
    "id": "iQlGdsNVvrGG",
    "outputId": "c68477ee-671f-4c62-ab19-39eeccbb5893"
   },
   "outputs": [
    {
     "data": {
      "text/plain": [
       "Text(0.5, 1.0, 'ratings counts')"
      ]
     },
     "execution_count": 14,
     "metadata": {
      "tags": []
     },
     "output_type": "execute_result"
    },
    {
     "data": {
      "image/png": "[encoded data removed]",
      "text/plain": [
       "<Figure size 432x288 with 1 Axes>"
      ]
     },
     "metadata": {
      "tags": []
     },
     "output_type": "display_data"
    }
   ],
   "source": [
    "plt.pie(yelp['stars'].value_counts(), \n",
    "        labels=yelp['stars'].value_counts().index,\n",
    "        shadow=True, startangle=90)\n",
    "plt.title('ratings counts')"
   ]
  },
  {
   "cell_type": "code",
   "execution_count": 0,
   "metadata": {
    "colab": {},
    "colab_type": "code",
    "id": "PjG3DuBfvrGJ"
   },
   "outputs": [],
   "source": [
    "from imblearn.over_sampling import RandomOverSampler, SMOTE, ADASYN,  BorderlineSMOTE\n",
    "from imblearn.under_sampling import RandomUnderSampler\n",
    "from sklearn.preprocessing import StandardScaler"
   ]
  },
  {
   "cell_type": "code",
   "execution_count": 0,
   "metadata": {
    "colab": {},
    "colab_type": "code",
    "id": "h6PeUEIbvrGL",
    "outputId": "b4a49213-f264-4c45-beae-e5dadfddd948"
   },
   "outputs": [
    {
     "name": "stderr",
     "output_type": "stream",
     "text": [
      "/usr/local/lib/python3.7/site-packages/sklearn/svm/_base.py:947: ConvergenceWarning: Liblinear failed to converge, increase the number of iterations.\n",
      "  \"the number of iterations.\", ConvergenceWarning)\n"
     ]
    },
    {
     "data": {
      "text/html": [
       "<div>\n",
       "<style scoped>\n",
       "    .dataframe tbody tr th:only-of-type {\n",
       "        vertical-align: middle;\n",
       "    }\n",
       "\n",
       "    .dataframe tbody tr th {\n",
       "        vertical-align: top;\n",
       "    }\n",
       "\n",
       "    .dataframe thead th {\n",
       "        text-align: right;\n",
       "    }\n",
       "</style>\n",
       "<table border=\"1\" class=\"dataframe\">\n",
       "  <thead>\n",
       "    <tr style=\"text-align: right;\">\n",
       "      <th></th>\n",
       "      <th>LSVC</th>\n",
       "      <th>LSVC + RandomOverSampler</th>\n",
       "      <th>LSVC + SMOTE</th>\n",
       "      <th>LSVC + ADASYN</th>\n",
       "      <th>LSVC + BorderlineSMOTE</th>\n",
       "      <th>LSVC + RandomUnderSampler</th>\n",
       "    </tr>\n",
       "  </thead>\n",
       "  <tbody>\n",
       "    <tr>\n",
       "      <th>mean</th>\n",
       "      <td>0.955323</td>\n",
       "      <td>0.926054</td>\n",
       "      <td>0.952906</td>\n",
       "      <td>0.951924</td>\n",
       "      <td>0.956439</td>\n",
       "      <td>0.932768</td>\n",
       "    </tr>\n",
       "    <tr>\n",
       "      <th>1</th>\n",
       "      <td>0.878718</td>\n",
       "      <td>0.922804</td>\n",
       "      <td>0.953013</td>\n",
       "      <td>0.952332</td>\n",
       "      <td>0.956586</td>\n",
       "      <td>0.932755</td>\n",
       "    </tr>\n",
       "    <tr>\n",
       "      <th>5</th>\n",
       "      <td>0.972618</td>\n",
       "      <td>0.929041</td>\n",
       "      <td>0.952797</td>\n",
       "      <td>0.951510</td>\n",
       "      <td>0.956291</td>\n",
       "      <td>0.932781</td>\n",
       "    </tr>\n",
       "  </tbody>\n",
       "</table>\n",
       "</div>"
      ],
      "text/plain": [
       "          LSVC  LSVC + RandomOverSampler  LSVC + SMOTE  LSVC + ADASYN  \\\n",
       "mean  0.955323                  0.926054      0.952906       0.951924   \n",
       "1     0.878718                  0.922804      0.953013       0.952332   \n",
       "5     0.972618                  0.929041      0.952797       0.951510   \n",
       "\n",
       "      LSVC + BorderlineSMOTE  LSVC + RandomUnderSampler  \n",
       "mean                0.956439                   0.932768  \n",
       "1                   0.956586                   0.932755  \n",
       "5                   0.956291                   0.932781  "
      ]
     },
     "execution_count": 16,
     "metadata": {
      "tags": []
     },
     "output_type": "execute_result"
    },
    {
     "data": {
      "image/png": "[encoded data removed]",
      "text/plain": [
       "<Figure size 432x288 with 1 Axes>"
      ]
     },
     "metadata": {
      "needs_background": "light",
      "tags": []
     },
     "output_type": "display_data"
    }
   ],
   "source": [
    "compare_models = {}\n",
    "X_train, X_test, y_train, y_test = train_test_split(X_vector, y, test_size=0.3, random_state=101)\n",
    "lscv_model(X_train, X_test, y_train, y_test,'LSVC')\n",
    "for method in [RandomOverSampler, SMOTE, ADASYN,  BorderlineSMOTE, RandomUnderSampler]:    \n",
    "    ros = method(random_state=5)\n",
    "    X_resampled, y_resampled = ros.fit_resample(X_train, y_train)\n",
    "    X_resampled_test, y_resampled_test = ros.fit_resample(X_test, y_test)\n",
    "    lscv_model(X_resampled, X_resampled_test, y_resampled, y_resampled_test,'LSVC + ' + ros.__class__.__name__)\n",
    "pd.DataFrame(compare_models).plot(kind='bar', ylim=[0.8,1.0])\n",
    "plt.legend(loc=(1,0))\n",
    "plt.ylabel('score')\n",
    "pd.DataFrame(compare_models)"
   ]
  },
  {
   "cell_type": "markdown",
   "metadata": {
    "colab_type": "text",
    "id": "E_wIsBcavrGO"
   },
   "source": [
    "## 3. Skewed distribution: \n",
    "Box-Cox Transformation and Yeo-Johnson Transformation"
   ]
  },
  {
   "cell_type": "code",
   "execution_count": 22,
   "metadata": {
    "colab": {},
    "colab_type": "code",
    "id": "XSCUXzG0vrGO"
   },
   "outputs": [],
   "source": [
    "from sklearn.preprocessing import PowerTransformer, QuantileTransformer"
   ]
  },
  {
   "cell_type": "code",
   "execution_count": 24,
   "metadata": {
    "colab": {},
    "colab_type": "code",
    "id": "I30EoZmUvrGR",
    "outputId": "55a718cd-0d57-4444-e0aa-aeb497ef9f6d"
   },
   "outputs": [
    {
     "data": {
      "text/html": [
       "<div>\n",
       "<style scoped>\n",
       "    .dataframe tbody tr th:only-of-type {\n",
       "        vertical-align: middle;\n",
       "    }\n",
       "\n",
       "    .dataframe tbody tr th {\n",
       "        vertical-align: top;\n",
       "    }\n",
       "\n",
       "    .dataframe thead th {\n",
       "        text-align: right;\n",
       "    }\n",
       "</style>\n",
       "<table border=\"1\" class=\"dataframe\">\n",
       "  <thead>\n",
       "    <tr style=\"text-align: right;\">\n",
       "      <th></th>\n",
       "      <th>LSVC</th>\n",
       "      <th>LSVC + Yeo-Johnson</th>\n",
       "    </tr>\n",
       "  </thead>\n",
       "  <tbody>\n",
       "    <tr>\n",
       "      <th>mean</th>\n",
       "      <td>0.953268</td>\n",
       "      <td>0.955269</td>\n",
       "    </tr>\n",
       "    <tr>\n",
       "      <th>1</th>\n",
       "      <td>0.874866</td>\n",
       "      <td>0.880352</td>\n",
       "    </tr>\n",
       "    <tr>\n",
       "      <th>5</th>\n",
       "      <td>0.971269</td>\n",
       "      <td>0.972493</td>\n",
       "    </tr>\n",
       "  </tbody>\n",
       "</table>\n",
       "</div>"
      ],
      "text/plain": [
       "          LSVC  LSVC + Yeo-Johnson\n",
       "mean  0.953268            0.955269\n",
       "1     0.874866            0.880352\n",
       "5     0.971269            0.972493"
      ]
     },
     "execution_count": 24,
     "metadata": {},
     "output_type": "execute_result"
    },
    {
     "data": {
      "image/png": "[encoded data removed]",
      "text/plain": [
       "<Figure size 432x288 with 1 Axes>"
      ]
     },
     "metadata": {
      "needs_background": "light"
     },
     "output_type": "display_data"
    }
   ],
   "source": [
    "compare_models = {}\n",
    "\n",
    "pt = QuantileTransformer() \n",
    "X_vector_TF = pt.fit_transform(X_vector)\n",
    "for i,j in zip([X_vector,X_vector_TF],['LSVC','LSVC + Yeo-Johnson']):\n",
    "    X_train, X_test, y_train, y_test = train_test_split(i, y, test_size=0.3, random_state=101)\n",
    "    lscv_model(X_train, X_test, y_train, y_test, j)\n",
    "\n",
    "pd.DataFrame(compare_models).plot(kind='bar', ylim=[0.8,1.0])\n",
    "plt.legend(loc=(1,0))\n",
    "plt.ylabel('score')\n",
    "pd.DataFrame(compare_models)"
   ]
  },
  {
   "cell_type": "markdown",
   "metadata": {
    "colab_type": "text",
    "id": "dwZbIEV7vrGT"
   },
   "source": [
    "## 4. Effect of n-grams"
   ]
  },
  {
   "cell_type": "code",
   "execution_count": 0,
   "metadata": {
    "colab": {},
    "colab_type": "code",
    "id": "vvq7ds0mvrGU",
    "outputId": "d01fab5a-bc54-407f-b43b-9963420e0c92"
   },
   "outputs": [
    {
     "data": {
      "text/html": [
       "<div>\n",
       "<style scoped>\n",
       "    .dataframe tbody tr th:only-of-type {\n",
       "        vertical-align: middle;\n",
       "    }\n",
       "\n",
       "    .dataframe tbody tr th {\n",
       "        vertical-align: top;\n",
       "    }\n",
       "\n",
       "    .dataframe thead th {\n",
       "        text-align: right;\n",
       "    }\n",
       "</style>\n",
       "<table border=\"1\" class=\"dataframe\">\n",
       "  <thead>\n",
       "    <tr style=\"text-align: right;\">\n",
       "      <th></th>\n",
       "      <th>LSVC +(1, 1)</th>\n",
       "      <th>LSVC +(1, 2)</th>\n",
       "      <th>LSVC +(2, 2)</th>\n",
       "    </tr>\n",
       "  </thead>\n",
       "  <tbody>\n",
       "    <tr>\n",
       "      <th>mean</th>\n",
       "      <td>0.949918</td>\n",
       "      <td>0.954400</td>\n",
       "      <td>0.909725</td>\n",
       "    </tr>\n",
       "    <tr>\n",
       "      <th>1</th>\n",
       "      <td>0.863619</td>\n",
       "      <td>0.874486</td>\n",
       "      <td>0.706590</td>\n",
       "    </tr>\n",
       "    <tr>\n",
       "      <th>5</th>\n",
       "      <td>0.969327</td>\n",
       "      <td>0.972139</td>\n",
       "      <td>0.946656</td>\n",
       "    </tr>\n",
       "  </tbody>\n",
       "</table>\n",
       "</div>"
      ],
      "text/plain": [
       "      LSVC +(1, 1)  LSVC +(1, 2)  LSVC +(2, 2)\n",
       "mean      0.949918      0.954400      0.909725\n",
       "1         0.863619      0.874486      0.706590\n",
       "5         0.969327      0.972139      0.946656"
      ]
     },
     "execution_count": 48,
     "metadata": {
      "tags": []
     },
     "output_type": "execute_result"
    },
    {
     "data": {
      "image/png": "[encoded data removed]",
      "text/plain": [
       "<Figure size 432x288 with 1 Axes>"
      ]
     },
     "metadata": {
      "needs_background": "light",
      "tags": []
     },
     "output_type": "display_data"
    }
   ],
   "source": [
    "compare_models = {}\n",
    "for i in [(1,1) ,(1,2), (2,2)]:\n",
    "    cv = CountVectorizer(ngram_range=i)\n",
    "    X_vector = cv.fit_transform(X)\n",
    "    X_train, X_test, y_train, y_test = train_test_split(X_vector, y, test_size=0.3, random_state=101)\n",
    "    lscv_model(X_train, X_test, y_train, y_test, f'LSVC +{i}')\n",
    "pd.DataFrame(compare_models).plot(kind='bar', ylim=[0.5,1.0])\n",
    "plt.legend(loc=(1,0))\n",
    "plt.ylabel('score')\n",
    "pd.DataFrame(compare_models)"
   ]
  },
  {
   "cell_type": "markdown",
   "metadata": {
    "colab_type": "text",
    "id": "mG4cwmR1vrGX"
   },
   "source": [
    "## 5. Effect of Tf-idf"
   ]
  },
  {
   "cell_type": "code",
   "execution_count": 0,
   "metadata": {
    "colab": {},
    "colab_type": "code",
    "id": "BjKIkkxYvrGX"
   },
   "outputs": [],
   "source": [
    "from sklearn.feature_extraction.text import TfidfTransformer"
   ]
  },
  {
   "cell_type": "code",
   "execution_count": 0,
   "metadata": {
    "colab": {},
    "colab_type": "code",
    "id": "bA9ss9N8vrGa",
    "outputId": "a5970a59-ebbf-42c9-dff2-2b46a8d341f0"
   },
   "outputs": [
    {
     "name": "stderr",
     "output_type": "stream",
     "text": [
      "/usr/local/lib/python3.7/site-packages/sklearn/svm/_base.py:947: ConvergenceWarning: Liblinear failed to converge, increase the number of iterations.\n",
      "  \"the number of iterations.\", ConvergenceWarning)\n"
     ]
    },
    {
     "data": {
      "text/html": [
       "<div>\n",
       "<style scoped>\n",
       "    .dataframe tbody tr th:only-of-type {\n",
       "        vertical-align: middle;\n",
       "    }\n",
       "\n",
       "    .dataframe tbody tr th {\n",
       "        vertical-align: top;\n",
       "    }\n",
       "\n",
       "    .dataframe thead th {\n",
       "        text-align: right;\n",
       "    }\n",
       "</style>\n",
       "<table border=\"1\" class=\"dataframe\">\n",
       "  <thead>\n",
       "    <tr style=\"text-align: right;\">\n",
       "      <th></th>\n",
       "      <th>LSVC + (1,2)</th>\n",
       "      <th>LSVC + tdidf</th>\n",
       "    </tr>\n",
       "  </thead>\n",
       "  <tbody>\n",
       "    <tr>\n",
       "      <th>mean</th>\n",
       "      <td>0.954400</td>\n",
       "      <td>0.959522</td>\n",
       "    </tr>\n",
       "    <tr>\n",
       "      <th>1</th>\n",
       "      <td>0.874486</td>\n",
       "      <td>0.882121</td>\n",
       "    </tr>\n",
       "    <tr>\n",
       "      <th>5</th>\n",
       "      <td>0.972139</td>\n",
       "      <td>0.975566</td>\n",
       "    </tr>\n",
       "  </tbody>\n",
       "</table>\n",
       "</div>"
      ],
      "text/plain": [
       "      LSVC + (1,2)  LSVC + tdidf\n",
       "mean      0.954400      0.959522\n",
       "1         0.874486      0.882121\n",
       "5         0.972139      0.975566"
      ]
     },
     "execution_count": 52,
     "metadata": {
      "tags": []
     },
     "output_type": "execute_result"
    },
    {
     "data": {
      "image/png": "[encoded data removed]",
      "text/plain": [
       "<Figure size 432x288 with 1 Axes>"
      ]
     },
     "metadata": {
      "needs_background": "light",
      "tags": []
     },
     "output_type": "display_data"
    }
   ],
   "source": [
    "compare_models = {}\n",
    "cv = CountVectorizer(ngram_range=(1,2))\n",
    "X_vector = cv.fit_transform(X)\n",
    "X_train, X_test, y_train, y_test = train_test_split(X_vector, y, test_size=0.3, random_state=101)\n",
    "lscv_model(X_train, X_test, y_train, y_test, 'LSVC + (1,2)')\n",
    "\n",
    "\n",
    "tfidf = TfidfTransformer()\n",
    "X_vector_tdidf = tfidf.fit_transform(X_vector,y)\n",
    "X_train, X_test, y_train, y_test = train_test_split(X_vector_tdidf, y, test_size=0.3, random_state=101)\n",
    "lscv_model(X_train, X_test, y_train, y_test, f'LSVC + tdidf')\n",
    "pd.DataFrame(compare_models).plot(kind='bar', ylim=[0.5,1.0])\n",
    "plt.legend(loc=(1,0))\n",
    "plt.ylabel('score')\n",
    "pd.DataFrame(compare_models)"
   ]
  },
  {
   "cell_type": "markdown",
   "metadata": {
    "colab_type": "text",
    "id": "pGB-bYtZvrGc"
   },
   "source": [
    "## 6. Tuning hyperparameters"
   ]
  },
  {
   "cell_type": "code",
   "execution_count": 0,
   "metadata": {
    "colab": {},
    "colab_type": "code",
    "id": "taQS_duHvrGd"
   },
   "outputs": [],
   "source": [
    "from pprint import pprint\n",
    "from time import time\n",
    "import logging\n",
    "\n",
    "from imblearn.pipeline import Pipeline\n",
    "from sklearn.model_selection import GridSearchCV"
   ]
  },
  {
   "cell_type": "code",
   "execution_count": 0,
   "metadata": {
    "colab": {},
    "colab_type": "code",
    "id": "gXdM2iy8vrGf"
   },
   "outputs": [],
   "source": [
    "pipeline = Pipeline([\n",
    "    ('vect', CountVectorizer(ngram_range=(1,2))),\n",
    "    ('oversample', BorderlineSMOTE()),\n",
    "    ('unskewed', QuantileTransformer()),\n",
    "    ('tfidf', TfidfTransformer()),\n",
    "    ('svm', SVC())\n",
    "])"
   ]
  },
  {
   "cell_type": "code",
   "execution_count": 0,
   "metadata": {
    "colab": {},
    "colab_type": "code",
    "id": "-AcL0C3OvrGh"
   },
   "outputs": [],
   "source": [
    "X_train, X_test, y_train, y_test = train_test_split(X, y, test_size=0.3, random_state=101)\n",
    "parameters = {\n",
    "    'vect__max_df': (0.5, 0.75, 1.0),    \n",
    "    'svm__C': [10,20,50,70]\n",
    "}"
   ]
  },
  {
   "cell_type": "code",
   "execution_count": 0,
   "metadata": {
    "colab": {},
    "colab_type": "code",
    "id": "JEso0omPvrGj",
    "outputId": "fa71b851-33e2-4c4d-9fad-f2b0166982fc",
    "scrolled": false
   },
   "outputs": [
    {
     "name": "stdout",
     "output_type": "stream",
     "text": [
      "Performing grid search...\n",
      "pipeline: ['vect', 'oversample', 'unskewed', 'tfidf', 'svm']\n",
      "parameters:\n",
      "{'svm__C': [10, 20, 50, 70], 'vect__max_df': (0.5, 0.75, 1.0)}\n",
      "Fitting 5 folds for each of 12 candidates, totalling 60 fits\n"
     ]
    },
    {
     "name": "stderr",
     "output_type": "stream",
     "text": [
      "[Parallel(n_jobs=10)]: Using backend LokyBackend with 10 concurrent workers.\n",
      "[Parallel(n_jobs=10)]: Done  30 tasks      | elapsed: 168.0min\n",
      "[Parallel(n_jobs=10)]: Done  60 out of  60 | elapsed: 336.6min finished\n"
     ]
    },
    {
     "name": "stdout",
     "output_type": "stream",
     "text": [
      "done in 24682.233s\n",
      "\n",
      "Best score: 0.962\n",
      "Best parameters set:\n",
      "\tsvm__C: 20\n",
      "\tvect__max_df: 1.0\n"
     ]
    }
   ],
   "source": [
    "if __name__ == \"__main__\":\n",
    "    # multiprocessing requires the fork to happen in a __main__ protected\n",
    "    # block\n",
    "\n",
    "    # find the best parameters for both the feature extraction and the\n",
    "    # classifier\n",
    "    grid_search = GridSearchCV(pipeline, parameters, n_jobs=10, verbose=1)\n",
    "\n",
    "    print(\"Performing grid search...\")\n",
    "    print(\"pipeline:\", [name for name, _ in pipeline.steps])\n",
    "    print(\"parameters:\")\n",
    "    pprint(parameters)\n",
    "    t0 = time()\n",
    "    grid_search.fit(X_train, y_train)\n",
    "    print(\"done in %0.3fs\" % (time() - t0))\n",
    "    print()\n",
    "\n",
    "    print(\"Best score: %0.3f\" % grid_search.best_score_)\n",
    "    print(\"Best parameters set:\")\n",
    "    best_parameters = grid_search.best_estimator_.get_params()\n",
    "    for param_name in sorted(parameters.keys()):\n",
    "        print(\"\\t%s: %r\" % (param_name, best_parameters[param_name]))"
   ]
  },
  {
   "cell_type": "markdown",
   "metadata": {
    "colab_type": "text",
    "id": "KcvPNOIzvrGl"
   },
   "source": [
    "## Export the model as joblid file for deployment"
   ]
  },
  {
   "cell_type": "code",
   "execution_count": 0,
   "metadata": {
    "colab": {},
    "colab_type": "code",
    "id": "HY8KlSEmvrGm"
   },
   "outputs": [],
   "source": [
    "import pickle\n",
    "import joblib"
   ]
  },
  {
   "cell_type": "code",
   "execution_count": 0,
   "metadata": {
    "colab": {},
    "colab_type": "code",
    "id": "PUCGTcHSvrGo",
    "outputId": "408f32df-1716-498e-f4b9-edc25fa27836",
    "scrolled": false
   },
   "outputs": [
    {
     "data": {
      "text/html": [
       "<div>\n",
       "<style scoped>\n",
       "    .dataframe tbody tr th:only-of-type {\n",
       "        vertical-align: middle;\n",
       "    }\n",
       "\n",
       "    .dataframe tbody tr th {\n",
       "        vertical-align: top;\n",
       "    }\n",
       "\n",
       "    .dataframe thead th {\n",
       "        text-align: right;\n",
       "    }\n",
       "</style>\n",
       "<table border=\"1\" class=\"dataframe\">\n",
       "  <thead>\n",
       "    <tr style=\"text-align: right;\">\n",
       "      <th></th>\n",
       "      <th>best model</th>\n",
       "      <th>best model pickel</th>\n",
       "    </tr>\n",
       "  </thead>\n",
       "  <tbody>\n",
       "    <tr>\n",
       "      <th>mean</th>\n",
       "      <td>0.960872</td>\n",
       "      <td>0.960872</td>\n",
       "    </tr>\n",
       "    <tr>\n",
       "      <th>1</th>\n",
       "      <td>0.885584</td>\n",
       "      <td>0.885584</td>\n",
       "    </tr>\n",
       "    <tr>\n",
       "      <th>5</th>\n",
       "      <td>0.976401</td>\n",
       "      <td>0.976401</td>\n",
       "    </tr>\n",
       "  </tbody>\n",
       "</table>\n",
       "</div>"
      ],
      "text/plain": [
       "      best model  best model pickel\n",
       "mean    0.960872           0.960872\n",
       "1       0.885584           0.885584\n",
       "5       0.976401           0.976401"
      ]
     },
     "execution_count": 12,
     "metadata": {
      "tags": []
     },
     "output_type": "execute_result"
    }
   ],
   "source": [
    "pipeline = Pipeline([\n",
    "    ('vect', HashingVectorizer(ngram_range=(1,2), alternate_sign=False)),\n",
    "    ('oversample', BorderlineSMOTE()),\n",
    "    #('unskewed', QuantileTransformer()),\n",
    "    ('tfidf', TfidfTransformer()),\n",
    "    ('svm', SVC(C=20))\n",
    "])\n",
    "\n",
    "X_train, X_test, y_train, y_test = train_test_split(X, y, test_size=0.3, random_state=101)\n",
    "\n",
    "pipeline.fit(X_train,y_train)\n",
    "\n",
    "compare_models = {}\n",
    "model_name = 'best model'\n",
    "compare_models[model_name] = {'mean':pipeline.score(X_test,y_test)}\n",
    "y_pred = pipeline.predict(X_test)\n",
    "for i in ['1','5']:\n",
    "    compare_models[model_name][i]=classification_report(y_test,y_pred,output_dict=True)[i]['f1-score']\n",
    "    \n",
    "joblib.dump(pipeline, 'model_svm.joblib')     \n",
    "#pickle.dump(pipeline, open('model_svm_hash.pkl','wb'), protocol=4) # for saving big file\n",
    "\n",
    "#model = pickle.load(open('model_svm_hash.pkl','rb'))\n",
    "model = joblib.load('model_svm.joblib')\n",
    "\n",
    "model_name ='best model pickel'\n",
    "compare_models[model_name] = {'mean':model.score(X_test,y_test)}\n",
    "y_pred_svm_pl = model.predict(X_test)\n",
    "for i in ['1','5']:\n",
    "    compare_models[model_name][i]=classification_report(y_test,y_pred_svm_pl,output_dict=True)[i]['f1-score']\n",
    "    \n",
    "pd.DataFrame(compare_models)"
   ]
  },
  {
   "cell_type": "markdown",
   "metadata": {
    "colab_type": "text",
    "id": "RP_D28OKwi_W"
   },
   "source": [
    "## Automatic ML with TPOT"
   ]
  },
  {
   "cell_type": "code",
   "execution_count": 0,
   "metadata": {
    "colab": {},
    "colab_type": "code",
    "id": "BozSAhNYvrGq"
   },
   "outputs": [],
   "source": [
    "from tpot import TPOTClassifier"
   ]
  },
  {
   "cell_type": "code",
   "execution_count": null,
   "metadata": {
    "colab": {
     "referenced_widgets": [
      "175eb208aca547a9a567a3e89613ba11"
     ]
    },
    "colab_type": "code",
    "id": "ke2zI5GHvrGs",
    "outputId": "f07f96b4-edda-4183-a034-4f05a16f3919"
   },
   "outputs": [],
   "source": [
    "X_train, X_test, y_train, y_test = train_test_split(X_vector, y, test_size=0.3, random_state=101)\n",
    "pipeline_optimizer = TPOTClassifier(generations=20, verbosity=2, config_dict='TPOT sparse', n_jobs=-1)\n",
    "pipeline_optimizer.fit(X_train, y_train)\n",
    "print(pipeline_optimizer.score(X_test, y_test))\n",
    "pipeline_optimizer.export('tpot_exported_pipeline.py')"
   ]
  },
  {
   "cell_type": "markdown",
   "metadata": {
    "colab": {},
    "colab_type": "code",
    "id": "s4M67sHTvrGu"
   },
   "source": [
    "Warning: xgboost.XGBClassifier is not available and will not be used by TPOT.\n",
    "HBox(children=(FloatProgress(value=0.0, description='Optimization Progress', max=2100.0, style=ProgressStyle(d…\n",
    "Generation 1 - Current best internal CV score: 0.9612470462687706\n",
    "\n",
    "\n",
    "TPOT closed during evaluation in one generation.\n",
    "WARNING: TPOT may not provide a good pipeline if TPOT is stopped/interrupted in a early generation.\n",
    "\n",
    "\n",
    "TPOT closed prematurely. Will use the current best pipeline.\n",
    "\n",
    "Best pipeline: LogisticRegression(input_matrix, C=1.0, dual=False, penalty=l2)\n",
    "0.9631842919645716"
   ]
  },
  {
   "cell_type": "code",
   "execution_count": 0,
   "metadata": {
    "colab": {},
    "colab_type": "code",
    "id": "dZWBVG1TvrGv"
   },
   "outputs": [],
   "source": []
  }
 ],
 "metadata": {
  "accelerator": "GPU",
  "colab": {
   "collapsed_sections": [],
   "machine_shape": "hm",
   "name": "6 - NLP Project 3-ML.ipynb",
   "provenance": [],
   "toc_visible": true
  },
  "kernelspec": {
   "display_name": "gpaw",
   "language": "python",
   "name": "gpaw"
  },
  "language_info": {
   "codemirror_mode": {
    "name": "ipython",
    "version": 3
   },
   "file_extension": ".py",
   "mimetype": "text/x-python",
   "name": "python",
   "nbconvert_exporter": "python",
   "pygments_lexer": "ipython3",
   "version": "3.6.10"
  }
 },
 "nbformat": 4,
 "nbformat_minor": 1
}
