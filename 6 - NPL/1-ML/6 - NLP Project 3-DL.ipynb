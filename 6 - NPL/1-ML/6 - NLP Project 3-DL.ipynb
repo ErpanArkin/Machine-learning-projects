{
 "cells": [
  {
   "cell_type": "markdown",
   "metadata": {},
   "source": [
    "# Rating Prediction with Deep Learning\n",
    "\n",
    "## Fine Tuning NN Layers\n",
    "### 1. Embedding layer: trained vs pre-trained(Google’s Word2vec, Stanford’s GloVe)\n",
    "### 2. Effect of LSTM and GRU\n",
    "### 3."
   ]
  },
  {
   "cell_type": "code",
   "execution_count": 1,
   "metadata": {},
   "outputs": [],
   "source": [
    "import numpy as np\n",
    "import pandas as pd\n",
    "import matplotlib.pyplot as plt\n",
    "from mpl_toolkits.mplot3d import Axes3D\n",
    "from tensorflow.keras.preprocessing.text import Tokenizer\n",
    "from tensorflow.keras.preprocessing.sequence import pad_sequences\n",
    "from tensorflow.keras.utils import to_categorical\n",
    "from tensorflow.keras import regularizers\n",
    "from tensorflow.keras.models import Sequential,load_model\n",
    "from tensorflow.keras.layers import Dense,LSTM,GRU,Embedding,Dropout,Flatten\n",
    "from tensorflow.keras.callbacks import EarlyStopping\n",
    "from sklearn.model_selection import train_test_split\n",
    "from sklearn.decomposition import PCA\n",
    "import plotly.express as px\n",
    "from pickle import dump,load\n",
    "import os\n",
    "%matplotlib inline\n",
    "#%matplotlib widget"
   ]
  },
  {
   "cell_type": "code",
   "execution_count": 61,
   "metadata": {},
   "outputs": [],
   "source": [
    "#CONSTANTS\n",
    "EMBEDDING_DIM = 3\n",
    "VALIDATION_SPLIT = 0.3\n",
    "SAMPLE_SIZE = 0.0001\n",
    "MAX_SEQUENCE_LENGTH = 100\n",
    "FILE_PATH = '../../6 - NPL files/yelp_training_set_review(with text_length and transformed)-new.csv'\n",
    "GLOVE_DIR = '../../../Machine Learning documents/glove/'"
   ]
  },
  {
   "cell_type": "code",
   "execution_count": 62,
   "metadata": {},
   "outputs": [],
   "source": [
    "data_file = pd.read_csv(FILE_PATH)\n",
    "data_file = data_file[(data_file['stars'] == 1) | (data_file['stars'] == 5)].sample(frac=SAMPLE_SIZE).copy()\n",
    "data_file = data_file[['stars', 'text_transformed']]"
   ]
  },
  {
   "cell_type": "code",
   "execution_count": 63,
   "metadata": {},
   "outputs": [],
   "source": [
    "all_text = data_file['text_transformed'].values\n",
    "all_text = all_text.astype('str')\n",
    "tokenizer = Tokenizer()\n",
    "#tokenizer = load(open('keras_lstm_tokenizer','br'))\n",
    "tokenizer.fit_on_texts(all_text)\n",
    "#dump(tokenizer,open('keras_lstm_tokenizer','wb'))\n",
    "sequences = tokenizer.texts_to_sequences(all_text)\n",
    "count_unique = len(tokenizer.word_counts)\n",
    "pad_encoded = pad_sequences(sequences, maxlen=MAX_SEQUENCE_LENGTH, truncating='post', padding='post')"
   ]
  },
  {
   "cell_type": "code",
   "execution_count": 64,
   "metadata": {},
   "outputs": [
    {
     "name": "stdout",
     "output_type": "stream",
     "text": [
      "(644,) 455 438\n"
     ]
    }
   ],
   "source": [
    "sequences_1d = []\n",
    "for i in sequences:\n",
    "    for j in i:\n",
    "        sequences_1d.append(j)\n",
    "sequences_1d = np.array(sequences_1d)\n",
    "print(sequences_1d.shape,len(np.unique(sequences_1d)),len(np.unique(pad_encoded)))"
   ]
  },
  {
   "cell_type": "code",
   "execution_count": 65,
   "metadata": {},
   "outputs": [],
   "source": [
    "X = np.array(pad_encoded)\n",
    "y = pd.get_dummies(data_file['stars'], drop_first=True).values\n",
    "# y = to_categorical(data_file['stars'], num_classes=5)\n",
    "seq_len = X.shape[1]"
   ]
  },
  {
   "cell_type": "code",
   "execution_count": 66,
   "metadata": {},
   "outputs": [
    {
     "name": "stdout",
     "output_type": "stream",
     "text": [
      "(6, 100) (3, 100)\n"
     ]
    }
   ],
   "source": [
    "X_train, X_test, y_train, y_test = train_test_split(X, y, test_size=VALIDATION_SPLIT, random_state=42)\n",
    "print(X_train.shape,X_test.shape)"
   ]
  },
  {
   "cell_type": "code",
   "execution_count": 67,
   "metadata": {},
   "outputs": [],
   "source": [
    "compare_model = {}"
   ]
  },
  {
   "cell_type": "code",
   "execution_count": 68,
   "metadata": {},
   "outputs": [],
   "source": [
    "class NLP_training():\n",
    "    def __init__(self, model_name, model):\n",
    "        self.model = model\n",
    "        self.model_name = model_name\n",
    "        self.model.compile(loss='binary_crossentropy', optimizer='adam', metrics=['accuracy'])\n",
    "        # print(self.model.summary())\n",
    "    def fit_plot(self, X_train, y_train, X_test, y_test, verbose, plot_bar=True):\n",
    "        early_stop = EarlyStopping(monitor='loss', mode='min',patience=10)\n",
    "        history = self.model.fit(X_train,y_train,\n",
    "                                 batch_size=128,\n",
    "                                 epochs=10,\n",
    "                                 verbose=verbose,\n",
    "                                 validation_data=(X_test, y_test),\n",
    "                                 callbacks=[early_stop]\n",
    "                                 )\n",
    "        #plot the results\n",
    "        loss, accuracy = self.model.evaluate(X_test, y_test, verbose=0)\n",
    "        print('Accuracy: %f' % (accuracy*100))\n",
    "        compare_model[self.model_name] = accuracy*100\n",
    "        plt.figure(figsize=(14,4))\n",
    "        ax = plt.subplot(1,2,1)\n",
    "        pd.DataFrame(history.history).plot(ax=ax)\n",
    "        if plot_bar:\n",
    "            ax = plt.subplot(1,2,2)\n",
    "            pd.DataFrame(compare_model, index=['models']).plot(kind='bar', ax=ax, rot=0)\n",
    "            plt.ylim([94.0,97.0])\n",
    "            plt.legend(loc=(1,0.6))"
   ]
  },
  {
   "cell_type": "code",
   "execution_count": 69,
   "metadata": {},
   "outputs": [],
   "source": [
    "def plot_embeded_text(model, tokenizer, X_features, y_results):\n",
    "    \n",
    "    index_star_map = {}\n",
    "    for i,j in zip(X_features,y_results):\n",
    "        for k in i:\n",
    "            if k not in index_star_map.keys():\n",
    "                index_star_map[k] = []\n",
    "            index_star_map[k].append(j)\n",
    "    for i,j in index_star_map.items():\n",
    "        index_mean_rating = mean(j)\n",
    "        index_star_map[i] = round(index_mean_rating )\n",
    "    index_star_map[0] = 0\n",
    "\n",
    "    \n",
    "    X_1d = X.flatten()\n",
    "    \n",
    "    \n",
    "    unique_index = sorted(np.unique(X_1d, return_index=True)[1])\n",
    "    \n",
    "    \n",
    "    words_inorder = np.array(list(map(tokenizer.index_word.get,X_1d[unique_index])))\n",
    "    ratings_inorder = np.array(list(map(index_star_map.get,X_1d[unique_index])))\n",
    "\n",
    "    used_sequences = model.get_weights()[0][X_1d[unique_index]]\n",
    "\n",
    "    random_sample = np.random.randint(low=0,high=len(unique_index),size=100)\n",
    "    \n",
    "    words_inorder = words_inorder[random_sample]\n",
    "    ratings_inorder = ratings_inorder[random_sample]\n",
    "    used_sequences = used_sequences[random_sample]\n",
    "    \n",
    "    if used_sequences.shape[1] >= 3:\n",
    "        if used_sequences.shape[1] > 3:\n",
    "            pca = PCA(n_components=3)\n",
    "            embedding_weights = pca.fit_transform(used_sequences)\n",
    "        elif used_sequences.shape[1] == 3:\n",
    "            embedding_weights = used_sequences\n",
    "        df = pd.DataFrame(embedding_weights)\n",
    "        fig = px.scatter_3d(df,x=0,y=1,z=2,\n",
    "                            color=ratings_inorder,text=words_inorder\n",
    "                           )\n",
    "        fig.show()\n",
    "    elif model.get_weights()[0].shape[1] == 2:\n",
    "        df = pd.DataFrame(used_sequences)\n",
    "        fig = px.scatter(data_frame=df,x=0,y=1,\n",
    "                         size=ratings_inorder,text=words_inorder\n",
    "                        )\n",
    "        fig.show()"
   ]
  },
  {
   "cell_type": "markdown",
   "metadata": {},
   "source": [
    "### 1.Embedding layer: trainable"
   ]
  },
  {
   "cell_type": "code",
   "execution_count": 70,
   "metadata": {
    "scrolled": true
   },
   "outputs": [
    {
     "name": "stdout",
     "output_type": "stream",
     "text": [
      "Accuracy: 33.333334\n"
     ]
    },
    {
     "data": {
      "image/png": "[encoded data removed]",
      "text/plain": [
       "<Figure size 1400x400 with 2 Axes>"
      ]
     },
     "metadata": {},
     "output_type": "display_data"
    }
   ],
   "source": [
    "model = Sequential()\n",
    "# the size of the vocabulary is len + 1, since 0 is also a word\n",
    "model.add(Embedding(count_unique+1, output_dim=EMBEDDING_DIM, input_length=MAX_SEQUENCE_LENGTH)) \n",
    "model.add(Flatten())\n",
    "model.add(Dense(1,activation='sigmoid'))\n",
    "\n",
    "nlp = NLP_training('trainable WE (100d)', model)\n",
    "nlp.fit_plot(X_train, y_train, X_test, y_test, verbose=0)"
   ]
  },
  {
   "cell_type": "code",
   "execution_count": 71,
   "metadata": {
    "scrolled": true
   },
   "outputs": [
    {
     "data": {
      "application/vnd.plotly.v1+json": {
       "config": {
        "plotlyServerURL": "https://plot.ly"
       },
       "data": [
        {
         "hovertemplate": "0=%{x}<br>1=%{y}<br>2=%{z}<br>text=%{text}<br>color=%{marker.color}<extra></extra>",
         "legendgroup": "",
         "marker": {
          "color": [
           1,
           5,
           0,
           5,
           5,
           5,
           5,
           5,
           3,
           1,
           5,
           5,
           5,
           1,
           5,
           5,
           5,
           1,
           5,
           5,
           5,
           5,
           5,
           5,
           5,
           5,
           5,
           5,
           1,
           5,
           5,
           5,
           1,
           5,
           5,
           5,
           5,
           5,
           1,
           5,
           5,
           5,
           5,
           1,
           5,
           5,
           5,
           5,
           5,
           1,
           5,
           5,
           5,
           5,
           5,
           5,
           5,
           5,
           5,
           1,
           5,
           3,
           5,
           1,
           5,
           5,
           5,
           1,
           5,
           5,
           1,
           5,
           5,
           5,
           5,
           5,
           5,
           5,
           5,
           5,
           1,
           5,
           5,
           5,
           5,
           5,
           5,
           5,
           5,
           5,
           5,
           5,
           5,
           5,
           5,
           5,
           1,
           1,
           5,
           5
          ],
          "coloraxis": "coloraxis",
          "symbol": "circle"
         },
         "mode": "markers+text",
         "name": "",
         "scene": "scene",
         "showlegend": false,
         "text": [
          "watched",
          "bite",
          null,
          "immediate",
          "restaraunt",
          "thing",
          "enough",
          "dry",
          "love",
          "buy",
          "scramble",
          "building",
          "stand",
          "might",
          "bar",
          "eyes",
          "strip",
          "n",
          "jenny",
          "tortillas",
          "ring",
          "looking",
          "cashier",
          "iced",
          "nail",
          "thing",
          "stain",
          "red",
          "brand",
          "nothing",
          "pump",
          "knowledgeable",
          "wanna",
          "clean",
          "next",
          "wedding",
          "size",
          "hot",
          "came",
          "hostess",
          "around",
          "hungry",
          "professional",
          "worse",
          "hate",
          "appetizing",
          "end",
          "plenty",
          "pulling",
          "waited",
          "wall",
          "large",
          "nonetheless",
          "share",
          "flour",
          "relax",
          "size",
          "saved",
          "waterfall",
          "fixing",
          "easy",
          "never",
          "stand",
          "preferential",
          "bridesmaid",
          "stopped",
          "appetizing",
          "probably",
          "cannot",
          "mine",
          "better",
          "compliment",
          "compliment",
          "enough",
          "stopped",
          "traditinal",
          "white",
          "buzz",
          "point",
          "dressing",
          "worse",
          "subpar",
          "fantastic",
          "last",
          "addicting",
          "alittle",
          "safeway",
          "change",
          "bite",
          "mints",
          "susan",
          "overlooking",
          "flavors",
          "nonetheless",
          "thing",
          "thing",
          "asked",
          "work",
          "ya",
          "roasted"
         ],
         "type": "scatter3d",
         "x": [
          -0.046830274164676666,
          0.02543921396136284,
          -0.012507686391472816,
          -0.04669490084052086,
          -0.004631426651030779,
          -0.03530073165893555,
          0.028710875660181046,
          -0.03553361818194389,
          0.01247427985072136,
          -0.04841196537017822,
          -0.01386868767440319,
          0.004690913483500481,
          0.020238883793354034,
          0.011334598064422607,
          -0.01781298778951168,
          0.020561639219522476,
          0.008035681210458279,
          0.03379933908581734,
          0.057672351598739624,
          0.05868818983435631,
          0.018710289150476456,
          -0.0015311118913814425,
          0.051921382546424866,
          0.04115873947739601,
          -0.01868537813425064,
          -0.03530073165893555,
          -0.021303992718458176,
          -0.042418789118528366,
          -0.0488857738673687,
          -0.046652454882860184,
          0.054226964712142944,
          0.05424485728144646,
          -0.04443833976984024,
          0.029760656878352165,
          0.036377836018800735,
          -0.04275647550821304,
          0.02282548137009144,
          0.031815364956855774,
          0.04008760675787926,
          0.026486828923225403,
          -0.00965587142854929,
          0.016298864036798477,
          -0.02696225605905056,
          -0.011824630200862885,
          -0.0026878188364207745,
          0.03502700477838516,
          -0.041360873728990555,
          -0.016530076041817665,
          -0.03053845651447773,
          -0.01774538680911064,
          -0.010893230326473713,
          -0.05077778175473213,
          -0.05853394418954849,
          0.03254285454750061,
          0.010489128530025482,
          0.0035463348031044006,
          0.02282548137009144,
          0.021811403334140778,
          0.02834838442504406,
          0.02592405304312706,
          0.01314843911677599,
          0.017861340194940567,
          0.020238883793354034,
          0.017798934131860733,
          -0.03817027062177658,
          -0.021186111494898796,
          0.03502700477838516,
          -0.004051052033901215,
          -0.006114126183092594,
          -0.04633885622024536,
          0.025775764137506485,
          -0.008470680564641953,
          -0.008470680564641953,
          0.028710875660181046,
          -0.021186111494898796,
          -0.012182213366031647,
          0.020405294373631477,
          0.008614633232355118,
          0.009442099370062351,
          0.030377302318811417,
          -0.011824630200862885,
          0.026139724999666214,
          -0.03651496022939682,
          -0.03439687564969063,
          -0.04865684360265732,
          -0.03968480974435806,
          -0.009959690272808075,
          0.02528337761759758,
          0.02543921396136284,
          -0.007900780066847801,
          0.038795363157987595,
          -0.006144420709460974,
          0.013860645703971386,
          -0.05853394418954849,
          -0.03530073165893555,
          -0.03530073165893555,
          -0.016570638865232468,
          0.03704461082816124,
          0.015587827190756798,
          -0.020510507747530937
         ],
         "y": [
          -0.027446508407592773,
          0.0002246038056910038,
          0.02833390049636364,
          -0.020801791921257973,
          0.03541367128491402,
          -0.004095040261745453,
          0.03552086278796196,
          -0.009806557558476925,
          -0.025547388941049576,
          -0.04687615856528282,
          -0.03843903914093971,
          -0.04394408315420151,
          -0.05898129567503929,
          -0.023950910195708275,
          -0.037771642208099365,
          0.007847834378480911,
          0.012199608609080315,
          0.03914988413453102,
          0.041143834590911865,
          0.03492547944188118,
          -0.03726787492632866,
          -0.008993834257125854,
          -0.02923303283751011,
          0.0043678442016243935,
          0.01696784421801567,
          -0.004095040261745453,
          0.03145341947674751,
          0.05727074295282364,
          -0.02135571278631687,
          -0.004148213658481836,
          -0.04953482747077942,
          0.05196879431605339,
          -0.022570157423615456,
          -0.023878570646047592,
          -0.03408193215727806,
          0.008259507827460766,
          0.005558385048061609,
          0.001571442000567913,
          -0.0033758878707885742,
          -0.03307674452662468,
          -0.0036419795360416174,
          -0.04630522429943085,
          -0.0007341217715293169,
          0.03336736932396889,
          -0.010676155798137188,
          -0.015262965112924576,
          -0.002071554306894541,
          -0.019120385870337486,
          0.042650967836380005,
          0.004732023924589157,
          0.031210465356707573,
          -0.025691183283925056,
          0.009230452589690685,
          -0.012692791409790516,
          -0.05248456075787544,
          0.02590249851346016,
          0.005558385048061609,
          0.0009330784669145942,
          0.008755472488701344,
          -0.006927024573087692,
          -0.009092619642615318,
          0.04951906576752663,
          -0.05898129567503929,
          0.03383680805563927,
          -0.015448923222720623,
          0.021244097501039505,
          -0.015262965112924576,
          0.007326733320951462,
          -0.04526578634977341,
          -0.01907220482826233,
          -0.04381071403622627,
          -0.046926092356443405,
          -0.046926092356443405,
          0.03552086278796196,
          0.021244097501039505,
          0.026813320815563202,
          -0.02652927301824093,
          -0.009851094335317612,
          -0.025661781430244446,
          0.02701880782842636,
          0.03336736932396889,
          0.006105255335569382,
          -0.007563553750514984,
          0.018634002655744553,
          0.001372019061818719,
          -0.03225419297814369,
          0.028034763410687447,
          0.027348047122359276,
          0.0002246038056910038,
          -0.03475254401564598,
          -0.018946576863527298,
          -0.0058333068154752254,
          -0.031014369800686836,
          0.009230452589690685,
          -0.004095040261745453,
          -0.004095040261745453,
          -0.015729032456874847,
          0.03568262979388237,
          -0.041018061339855194,
          0.039481017738580704
         ],
         "z": [
          0.03716472163796425,
          -0.04154733195900917,
          -0.00791879091411829,
          0.0023854454047977924,
          0.0019276351667940617,
          -0.0023674480617046356,
          -0.036103785037994385,
          0.016976332291960716,
          -0.03511635214090347,
          0.01973329856991768,
          0.023038355633616447,
          -0.033227626234292984,
          -0.0011107891332358122,
          -0.02122601307928562,
          0.017098983749747276,
          -0.040257204324007034,
          0.03318295627832413,
          0.03947952017188072,
          -0.02224358357489109,
          -0.0308296587318182,
          0.05005698651075363,
          -0.029346533119678497,
          -0.02762828953564167,
          0.028223803266882896,
          0.040082480758428574,
          -0.0023674480617046356,
          -0.018104014918208122,
          -0.009166478179395199,
          -0.023280633613467216,
          0.0047705997712910175,
          0.0012124532368034124,
          0.004676782060414553,
          0.014869008213281631,
          0.005554070230573416,
          0.029329350218176842,
          0.023603584617376328,
          -0.05603460595011711,
          0.0008573964005336165,
          -0.031903043389320374,
          0.03844982013106346,
          -0.025926409289240837,
          -0.03757981210947037,
          -0.002069557085633278,
          -0.015511464327573776,
          0.015505114570260048,
          -0.032539620995521545,
          0.027967555448412895,
          0.005709975026547909,
          0.020289434120059013,
          -0.0066245682537555695,
          0.04196034371852875,
          0.03180774673819542,
          0.012263601645827293,
          -0.04918663948774338,
          -0.004141606390476227,
          0.04068808630108833,
          -0.05603460595011711,
          0.0006088446825742722,
          0.03268957510590553,
          -0.028347313404083252,
          -0.01782432571053505,
          -0.007095981389284134,
          -0.0011107891332358122,
          -0.017916511744260788,
          0.038189396262168884,
          -0.05677429959177971,
          -0.032539620995521545,
          -0.03397752344608307,
          0.03627309948205948,
          0.058030467480421066,
          0.046073321253061295,
          -0.0053212689235806465,
          -0.0053212689235806465,
          -0.036103785037994385,
          -0.05677429959177971,
          0.05610037222504616,
          -0.03370150551199913,
          -0.05221879109740257,
          0.020201923325657845,
          -0.012185133062303066,
          -0.015511464327573776,
          0.03988434001803398,
          -0.013410292565822601,
          -0.014248983934521675,
          0.037717074155807495,
          0.05484723672270775,
          -0.02359212003648281,
          0.0045516639947891235,
          -0.04154733195900917,
          -0.03222345560789108,
          0.055204156786203384,
          -0.027119439095258713,
          0.049173496663570404,
          0.012263601645827293,
          -0.0023674480617046356,
          -0.0023674480617046356,
          0.0011815652251243591,
          0.026018235832452774,
          -0.012161379680037498,
          -0.05880691483616829
         ]
        }
       ],
       "layout": {
        "coloraxis": {
         "colorbar": {
          "title": {
           "text": "color"
          }
         },
         "colorscale": [
          [
           0,
           "#0d0887"
          ],
          [
           0.1111111111111111,
           "#46039f"
          ],
          [
           0.2222222222222222,
           "#7201a8"
          ],
          [
           0.3333333333333333,
           "#9c179e"
          ],
          [
           0.4444444444444444,
           "#bd3786"
          ],
          [
           0.5555555555555556,
           "#d8576b"
          ],
          [
           0.6666666666666666,
           "#ed7953"
          ],
          [
           0.7777777777777778,
           "#fb9f3a"
          ],
          [
           0.8888888888888888,
           "#fdca26"
          ],
          [
           1,
           "#f0f921"
          ]
         ]
        },
        "legend": {
         "tracegroupgap": 0
        },
        "margin": {
         "t": 60
        },
        "scene": {
         "domain": {
          "x": [
           0,
           1
          ],
          "y": [
           0,
           1
          ]
         },
         "xaxis": {
          "title": {
           "text": "0"
          }
         },
         "yaxis": {
          "title": {
           "text": "1"
          }
         },
         "zaxis": {
          "title": {
           "text": "2"
          }
         }
        },
        "template": {
         "data": {
          "bar": [
           {
            "error_x": {
             "color": "#2a3f5f"
            },
            "error_y": {
             "color": "#2a3f5f"
            },
            "marker": {
             "line": {
              "color": "#E5ECF6",
              "width": 0.5
             }
            },
            "type": "bar"
           }
          ],
          "barpolar": [
           {
            "marker": {
             "line": {
              "color": "#E5ECF6",
              "width": 0.5
             }
            },
            "type": "barpolar"
           }
          ],
          "carpet": [
           {
            "aaxis": {
             "endlinecolor": "#2a3f5f",
             "gridcolor": "white",
             "linecolor": "white",
             "minorgridcolor": "white",
             "startlinecolor": "#2a3f5f"
            },
            "baxis": {
             "endlinecolor": "#2a3f5f",
             "gridcolor": "white",
             "linecolor": "white",
             "minorgridcolor": "white",
             "startlinecolor": "#2a3f5f"
            },
            "type": "carpet"
           }
          ],
          "choropleth": [
           {
            "colorbar": {
             "outlinewidth": 0,
             "ticks": ""
            },
            "type": "choropleth"
           }
          ],
          "contour": [
           {
            "colorbar": {
             "outlinewidth": 0,
             "ticks": ""
            },
            "colorscale": [
             [
              0,
              "#0d0887"
             ],
             [
              0.1111111111111111,
              "#46039f"
             ],
             [
              0.2222222222222222,
              "#7201a8"
             ],
             [
              0.3333333333333333,
              "#9c179e"
             ],
             [
              0.4444444444444444,
              "#bd3786"
             ],
             [
              0.5555555555555556,
              "#d8576b"
             ],
             [
              0.6666666666666666,
              "#ed7953"
             ],
             [
              0.7777777777777778,
              "#fb9f3a"
             ],
             [
              0.8888888888888888,
              "#fdca26"
             ],
             [
              1,
              "#f0f921"
             ]
            ],
            "type": "contour"
           }
          ],
          "contourcarpet": [
           {
            "colorbar": {
             "outlinewidth": 0,
             "ticks": ""
            },
            "type": "contourcarpet"
           }
          ],
          "heatmap": [
           {
            "colorbar": {
             "outlinewidth": 0,
             "ticks": ""
            },
            "colorscale": [
             [
              0,
              "#0d0887"
             ],
             [
              0.1111111111111111,
              "#46039f"
             ],
             [
              0.2222222222222222,
              "#7201a8"
             ],
             [
              0.3333333333333333,
              "#9c179e"
             ],
             [
              0.4444444444444444,
              "#bd3786"
             ],
             [
              0.5555555555555556,
              "#d8576b"
             ],
             [
              0.6666666666666666,
              "#ed7953"
             ],
             [
              0.7777777777777778,
              "#fb9f3a"
             ],
             [
              0.8888888888888888,
              "#fdca26"
             ],
             [
              1,
              "#f0f921"
             ]
            ],
            "type": "heatmap"
           }
          ],
          "heatmapgl": [
           {
            "colorbar": {
             "outlinewidth": 0,
             "ticks": ""
            },
            "colorscale": [
             [
              0,
              "#0d0887"
             ],
             [
              0.1111111111111111,
              "#46039f"
             ],
             [
              0.2222222222222222,
              "#7201a8"
             ],
             [
              0.3333333333333333,
              "#9c179e"
             ],
             [
              0.4444444444444444,
              "#bd3786"
             ],
             [
              0.5555555555555556,
              "#d8576b"
             ],
             [
              0.6666666666666666,
              "#ed7953"
             ],
             [
              0.7777777777777778,
              "#fb9f3a"
             ],
             [
              0.8888888888888888,
              "#fdca26"
             ],
             [
              1,
              "#f0f921"
             ]
            ],
            "type": "heatmapgl"
           }
          ],
          "histogram": [
           {
            "marker": {
             "colorbar": {
              "outlinewidth": 0,
              "ticks": ""
             }
            },
            "type": "histogram"
           }
          ],
          "histogram2d": [
           {
            "colorbar": {
             "outlinewidth": 0,
             "ticks": ""
            },
            "colorscale": [
             [
              0,
              "#0d0887"
             ],
             [
              0.1111111111111111,
              "#46039f"
             ],
             [
              0.2222222222222222,
              "#7201a8"
             ],
             [
              0.3333333333333333,
              "#9c179e"
             ],
             [
              0.4444444444444444,
              "#bd3786"
             ],
             [
              0.5555555555555556,
              "#d8576b"
             ],
             [
              0.6666666666666666,
              "#ed7953"
             ],
             [
              0.7777777777777778,
              "#fb9f3a"
             ],
             [
              0.8888888888888888,
              "#fdca26"
             ],
             [
              1,
              "#f0f921"
             ]
            ],
            "type": "histogram2d"
           }
          ],
          "histogram2dcontour": [
           {
            "colorbar": {
             "outlinewidth": 0,
             "ticks": ""
            },
            "colorscale": [
             [
              0,
              "#0d0887"
             ],
             [
              0.1111111111111111,
              "#46039f"
             ],
             [
              0.2222222222222222,
              "#7201a8"
             ],
             [
              0.3333333333333333,
              "#9c179e"
             ],
             [
              0.4444444444444444,
              "#bd3786"
             ],
             [
              0.5555555555555556,
              "#d8576b"
             ],
             [
              0.6666666666666666,
              "#ed7953"
             ],
             [
              0.7777777777777778,
              "#fb9f3a"
             ],
             [
              0.8888888888888888,
              "#fdca26"
             ],
             [
              1,
              "#f0f921"
             ]
            ],
            "type": "histogram2dcontour"
           }
          ],
          "mesh3d": [
           {
            "colorbar": {
             "outlinewidth": 0,
             "ticks": ""
            },
            "type": "mesh3d"
           }
          ],
          "parcoords": [
           {
            "line": {
             "colorbar": {
              "outlinewidth": 0,
              "ticks": ""
             }
            },
            "type": "parcoords"
           }
          ],
          "pie": [
           {
            "automargin": true,
            "type": "pie"
           }
          ],
          "scatter": [
           {
            "marker": {
             "colorbar": {
              "outlinewidth": 0,
              "ticks": ""
             }
            },
            "type": "scatter"
           }
          ],
          "scatter3d": [
           {
            "line": {
             "colorbar": {
              "outlinewidth": 0,
              "ticks": ""
             }
            },
            "marker": {
             "colorbar": {
              "outlinewidth": 0,
              "ticks": ""
             }
            },
            "type": "scatter3d"
           }
          ],
          "scattercarpet": [
           {
            "marker": {
             "colorbar": {
              "outlinewidth": 0,
              "ticks": ""
             }
            },
            "type": "scattercarpet"
           }
          ],
          "scattergeo": [
           {
            "marker": {
             "colorbar": {
              "outlinewidth": 0,
              "ticks": ""
             }
            },
            "type": "scattergeo"
           }
          ],
          "scattergl": [
           {
            "marker": {
             "colorbar": {
              "outlinewidth": 0,
              "ticks": ""
             }
            },
            "type": "scattergl"
           }
          ],
          "scattermapbox": [
           {
            "marker": {
             "colorbar": {
              "outlinewidth": 0,
              "ticks": ""
             }
            },
            "type": "scattermapbox"
           }
          ],
          "scatterpolar": [
           {
            "marker": {
             "colorbar": {
              "outlinewidth": 0,
              "ticks": ""
             }
            },
            "type": "scatterpolar"
           }
          ],
          "scatterpolargl": [
           {
            "marker": {
             "colorbar": {
              "outlinewidth": 0,
              "ticks": ""
             }
            },
            "type": "scatterpolargl"
           }
          ],
          "scatterternary": [
           {
            "marker": {
             "colorbar": {
              "outlinewidth": 0,
              "ticks": ""
             }
            },
            "type": "scatterternary"
           }
          ],
          "surface": [
           {
            "colorbar": {
             "outlinewidth": 0,
             "ticks": ""
            },
            "colorscale": [
             [
              0,
              "#0d0887"
             ],
             [
              0.1111111111111111,
              "#46039f"
             ],
             [
              0.2222222222222222,
              "#7201a8"
             ],
             [
              0.3333333333333333,
              "#9c179e"
             ],
             [
              0.4444444444444444,
              "#bd3786"
             ],
             [
              0.5555555555555556,
              "#d8576b"
             ],
             [
              0.6666666666666666,
              "#ed7953"
             ],
             [
              0.7777777777777778,
              "#fb9f3a"
             ],
             [
              0.8888888888888888,
              "#fdca26"
             ],
             [
              1,
              "#f0f921"
             ]
            ],
            "type": "surface"
           }
          ],
          "table": [
           {
            "cells": {
             "fill": {
              "color": "#EBF0F8"
             },
             "line": {
              "color": "white"
             }
            },
            "header": {
             "fill": {
              "color": "#C8D4E3"
             },
             "line": {
              "color": "white"
             }
            },
            "type": "table"
           }
          ]
         },
         "layout": {
          "annotationdefaults": {
           "arrowcolor": "#2a3f5f",
           "arrowhead": 0,
           "arrowwidth": 1
          },
          "coloraxis": {
           "colorbar": {
            "outlinewidth": 0,
            "ticks": ""
           }
          },
          "colorscale": {
           "diverging": [
            [
             0,
             "#8e0152"
            ],
            [
             0.1,
             "#c51b7d"
            ],
            [
             0.2,
             "#de77ae"
            ],
            [
             0.3,
             "#f1b6da"
            ],
            [
             0.4,
             "#fde0ef"
            ],
            [
             0.5,
             "#f7f7f7"
            ],
            [
             0.6,
             "#e6f5d0"
            ],
            [
             0.7,
             "#b8e186"
            ],
            [
             0.8,
             "#7fbc41"
            ],
            [
             0.9,
             "#4d9221"
            ],
            [
             1,
             "#276419"
            ]
           ],
           "sequential": [
            [
             0,
             "#0d0887"
            ],
            [
             0.1111111111111111,
             "#46039f"
            ],
            [
             0.2222222222222222,
             "#7201a8"
            ],
            [
             0.3333333333333333,
             "#9c179e"
            ],
            [
             0.4444444444444444,
             "#bd3786"
            ],
            [
             0.5555555555555556,
             "#d8576b"
            ],
            [
             0.6666666666666666,
             "#ed7953"
            ],
            [
             0.7777777777777778,
             "#fb9f3a"
            ],
            [
             0.8888888888888888,
             "#fdca26"
            ],
            [
             1,
             "#f0f921"
            ]
           ],
           "sequentialminus": [
            [
             0,
             "#0d0887"
            ],
            [
             0.1111111111111111,
             "#46039f"
            ],
            [
             0.2222222222222222,
             "#7201a8"
            ],
            [
             0.3333333333333333,
             "#9c179e"
            ],
            [
             0.4444444444444444,
             "#bd3786"
            ],
            [
             0.5555555555555556,
             "#d8576b"
            ],
            [
             0.6666666666666666,
             "#ed7953"
            ],
            [
             0.7777777777777778,
             "#fb9f3a"
            ],
            [
             0.8888888888888888,
             "#fdca26"
            ],
            [
             1,
             "#f0f921"
            ]
           ]
          },
          "colorway": [
           "#636efa",
           "#EF553B",
           "#00cc96",
           "#ab63fa",
           "#FFA15A",
           "#19d3f3",
           "#FF6692",
           "#B6E880",
           "#FF97FF",
           "#FECB52"
          ],
          "font": {
           "color": "#2a3f5f"
          },
          "geo": {
           "bgcolor": "white",
           "lakecolor": "white",
           "landcolor": "#E5ECF6",
           "showlakes": true,
           "showland": true,
           "subunitcolor": "white"
          },
          "hoverlabel": {
           "align": "left"
          },
          "hovermode": "closest",
          "mapbox": {
           "style": "light"
          },
          "paper_bgcolor": "white",
          "plot_bgcolor": "#E5ECF6",
          "polar": {
           "angularaxis": {
            "gridcolor": "white",
            "linecolor": "white",
            "ticks": ""
           },
           "bgcolor": "#E5ECF6",
           "radialaxis": {
            "gridcolor": "white",
            "linecolor": "white",
            "ticks": ""
           }
          },
          "scene": {
           "xaxis": {
            "backgroundcolor": "#E5ECF6",
            "gridcolor": "white",
            "gridwidth": 2,
            "linecolor": "white",
            "showbackground": true,
            "ticks": "",
            "zerolinecolor": "white"
           },
           "yaxis": {
            "backgroundcolor": "#E5ECF6",
            "gridcolor": "white",
            "gridwidth": 2,
            "linecolor": "white",
            "showbackground": true,
            "ticks": "",
            "zerolinecolor": "white"
           },
           "zaxis": {
            "backgroundcolor": "#E5ECF6",
            "gridcolor": "white",
            "gridwidth": 2,
            "linecolor": "white",
            "showbackground": true,
            "ticks": "",
            "zerolinecolor": "white"
           }
          },
          "shapedefaults": {
           "line": {
            "color": "#2a3f5f"
           }
          },
          "ternary": {
           "aaxis": {
            "gridcolor": "white",
            "linecolor": "white",
            "ticks": ""
           },
           "baxis": {
            "gridcolor": "white",
            "linecolor": "white",
            "ticks": ""
           },
           "bgcolor": "#E5ECF6",
           "caxis": {
            "gridcolor": "white",
            "linecolor": "white",
            "ticks": ""
           }
          },
          "title": {
           "x": 0.05
          },
          "xaxis": {
           "automargin": true,
           "gridcolor": "white",
           "linecolor": "white",
           "ticks": "",
           "title": {
            "standoff": 15
           },
           "zerolinecolor": "white",
           "zerolinewidth": 2
          },
          "yaxis": {
           "automargin": true,
           "gridcolor": "white",
           "linecolor": "white",
           "ticks": "",
           "title": {
            "standoff": 15
           },
           "zerolinecolor": "white",
           "zerolinewidth": 2
          }
         }
        }
       }
      },
      "text/html": [
       "<div>\n",
       "        \n",
       "        \n",
       "            <div id=\"f5e938b0-5a3a-4f3f-bb19-c4302dc39990\" class=\"plotly-graph-div\" style=\"height:525px; width:100%;\"></div>\n",
       "            <script type=\"text/javascript\">\n",
       "                require([\"plotly\"], function(Plotly) {\n",
       "                    window.PLOTLYENV=window.PLOTLYENV || {};\n",
       "                    \n",
       "                if (document.getElementById(\"f5e938b0-5a3a-4f3f-bb19-c4302dc39990\")) {\n",
       "                    Plotly.newPlot(\n",
       "                        'f5e938b0-5a3a-4f3f-bb19-c4302dc39990',\n",
       "                        [{\"hovertemplate\": \"0=%{x}<br>1=%{y}<br>2=%{z}<br>text=%{text}<br>color=%{marker.color}<extra></extra>\", \"legendgroup\": \"\", \"marker\": {\"color\": [1.0, 5.0, 0.0, 5.0, 5.0, 5.0, 5.0, 5.0, 3.0, 1.0, 5.0, 5.0, 5.0, 1.0, 5.0, 5.0, 5.0, 1.0, 5.0, 5.0, 5.0, 5.0, 5.0, 5.0, 5.0, 5.0, 5.0, 5.0, 1.0, 5.0, 5.0, 5.0, 1.0, 5.0, 5.0, 5.0, 5.0, 5.0, 1.0, 5.0, 5.0, 5.0, 5.0, 1.0, 5.0, 5.0, 5.0, 5.0, 5.0, 1.0, 5.0, 5.0, 5.0, 5.0, 5.0, 5.0, 5.0, 5.0, 5.0, 1.0, 5.0, 3.0, 5.0, 1.0, 5.0, 5.0, 5.0, 1.0, 5.0, 5.0, 1.0, 5.0, 5.0, 5.0, 5.0, 5.0, 5.0, 5.0, 5.0, 5.0, 1.0, 5.0, 5.0, 5.0, 5.0, 5.0, 5.0, 5.0, 5.0, 5.0, 5.0, 5.0, 5.0, 5.0, 5.0, 5.0, 1.0, 1.0, 5.0, 5.0], \"coloraxis\": \"coloraxis\", \"symbol\": \"circle\"}, \"mode\": \"markers+text\", \"name\": \"\", \"scene\": \"scene\", \"showlegend\": false, \"text\": [\"watched\", \"bite\", null, \"immediate\", \"restaraunt\", \"thing\", \"enough\", \"dry\", \"love\", \"buy\", \"scramble\", \"building\", \"stand\", \"might\", \"bar\", \"eyes\", \"strip\", \"n\", \"jenny\", \"tortillas\", \"ring\", \"looking\", \"cashier\", \"iced\", \"nail\", \"thing\", \"stain\", \"red\", \"brand\", \"nothing\", \"pump\", \"knowledgeable\", \"wanna\", \"clean\", \"next\", \"wedding\", \"size\", \"hot\", \"came\", \"hostess\", \"around\", \"hungry\", \"professional\", \"worse\", \"hate\", \"appetizing\", \"end\", \"plenty\", \"pulling\", \"waited\", \"wall\", \"large\", \"nonetheless\", \"share\", \"flour\", \"relax\", \"size\", \"saved\", \"waterfall\", \"fixing\", \"easy\", \"never\", \"stand\", \"preferential\", \"bridesmaid\", \"stopped\", \"appetizing\", \"probably\", \"cannot\", \"mine\", \"better\", \"compliment\", \"compliment\", \"enough\", \"stopped\", \"traditinal\", \"white\", \"buzz\", \"point\", \"dressing\", \"worse\", \"subpar\", \"fantastic\", \"last\", \"addicting\", \"alittle\", \"safeway\", \"change\", \"bite\", \"mints\", \"susan\", \"overlooking\", \"flavors\", \"nonetheless\", \"thing\", \"thing\", \"asked\", \"work\", \"ya\", \"roasted\"], \"type\": \"scatter3d\", \"x\": [-0.046830274164676666, 0.02543921396136284, -0.012507686391472816, -0.04669490084052086, -0.004631426651030779, -0.03530073165893555, 0.028710875660181046, -0.03553361818194389, 0.01247427985072136, -0.04841196537017822, -0.01386868767440319, 0.004690913483500481, 0.020238883793354034, 0.011334598064422607, -0.01781298778951168, 0.020561639219522476, 0.008035681210458279, 0.03379933908581734, 0.057672351598739624, 0.05868818983435631, 0.018710289150476456, -0.0015311118913814425, 0.051921382546424866, 0.04115873947739601, -0.01868537813425064, -0.03530073165893555, -0.021303992718458176, -0.042418789118528366, -0.0488857738673687, -0.046652454882860184, 0.054226964712142944, 0.05424485728144646, -0.04443833976984024, 0.029760656878352165, 0.036377836018800735, -0.04275647550821304, 0.02282548137009144, 0.031815364956855774, 0.04008760675787926, 0.026486828923225403, -0.00965587142854929, 0.016298864036798477, -0.02696225605905056, -0.011824630200862885, -0.0026878188364207745, 0.03502700477838516, -0.041360873728990555, -0.016530076041817665, -0.03053845651447773, -0.01774538680911064, -0.010893230326473713, -0.05077778175473213, -0.05853394418954849, 0.03254285454750061, 0.010489128530025482, 0.0035463348031044006, 0.02282548137009144, 0.021811403334140778, 0.02834838442504406, 0.02592405304312706, 0.01314843911677599, 0.017861340194940567, 0.020238883793354034, 0.017798934131860733, -0.03817027062177658, -0.021186111494898796, 0.03502700477838516, -0.004051052033901215, -0.006114126183092594, -0.04633885622024536, 0.025775764137506485, -0.008470680564641953, -0.008470680564641953, 0.028710875660181046, -0.021186111494898796, -0.012182213366031647, 0.020405294373631477, 0.008614633232355118, 0.009442099370062351, 0.030377302318811417, -0.011824630200862885, 0.026139724999666214, -0.03651496022939682, -0.03439687564969063, -0.04865684360265732, -0.03968480974435806, -0.009959690272808075, 0.02528337761759758, 0.02543921396136284, -0.007900780066847801, 0.038795363157987595, -0.006144420709460974, 0.013860645703971386, -0.05853394418954849, -0.03530073165893555, -0.03530073165893555, -0.016570638865232468, 0.03704461082816124, 0.015587827190756798, -0.020510507747530937], \"y\": [-0.027446508407592773, 0.0002246038056910038, 0.02833390049636364, -0.020801791921257973, 0.03541367128491402, -0.004095040261745453, 0.03552086278796196, -0.009806557558476925, -0.025547388941049576, -0.04687615856528282, -0.03843903914093971, -0.04394408315420151, -0.05898129567503929, -0.023950910195708275, -0.037771642208099365, 0.007847834378480911, 0.012199608609080315, 0.03914988413453102, 0.041143834590911865, 0.03492547944188118, -0.03726787492632866, -0.008993834257125854, -0.02923303283751011, 0.0043678442016243935, 0.01696784421801567, -0.004095040261745453, 0.03145341947674751, 0.05727074295282364, -0.02135571278631687, -0.004148213658481836, -0.04953482747077942, 0.05196879431605339, -0.022570157423615456, -0.023878570646047592, -0.03408193215727806, 0.008259507827460766, 0.005558385048061609, 0.001571442000567913, -0.0033758878707885742, -0.03307674452662468, -0.0036419795360416174, -0.04630522429943085, -0.0007341217715293169, 0.03336736932396889, -0.010676155798137188, -0.015262965112924576, -0.002071554306894541, -0.019120385870337486, 0.042650967836380005, 0.004732023924589157, 0.031210465356707573, -0.025691183283925056, 0.009230452589690685, -0.012692791409790516, -0.05248456075787544, 0.02590249851346016, 0.005558385048061609, 0.0009330784669145942, 0.008755472488701344, -0.006927024573087692, -0.009092619642615318, 0.04951906576752663, -0.05898129567503929, 0.03383680805563927, -0.015448923222720623, 0.021244097501039505, -0.015262965112924576, 0.007326733320951462, -0.04526578634977341, -0.01907220482826233, -0.04381071403622627, -0.046926092356443405, -0.046926092356443405, 0.03552086278796196, 0.021244097501039505, 0.026813320815563202, -0.02652927301824093, -0.009851094335317612, -0.025661781430244446, 0.02701880782842636, 0.03336736932396889, 0.006105255335569382, -0.007563553750514984, 0.018634002655744553, 0.001372019061818719, -0.03225419297814369, 0.028034763410687447, 0.027348047122359276, 0.0002246038056910038, -0.03475254401564598, -0.018946576863527298, -0.0058333068154752254, -0.031014369800686836, 0.009230452589690685, -0.004095040261745453, -0.004095040261745453, -0.015729032456874847, 0.03568262979388237, -0.041018061339855194, 0.039481017738580704], \"z\": [0.03716472163796425, -0.04154733195900917, -0.00791879091411829, 0.0023854454047977924, 0.0019276351667940617, -0.0023674480617046356, -0.036103785037994385, 0.016976332291960716, -0.03511635214090347, 0.01973329856991768, 0.023038355633616447, -0.033227626234292984, -0.0011107891332358122, -0.02122601307928562, 0.017098983749747276, -0.040257204324007034, 0.03318295627832413, 0.03947952017188072, -0.02224358357489109, -0.0308296587318182, 0.05005698651075363, -0.029346533119678497, -0.02762828953564167, 0.028223803266882896, 0.040082480758428574, -0.0023674480617046356, -0.018104014918208122, -0.009166478179395199, -0.023280633613467216, 0.0047705997712910175, 0.0012124532368034124, 0.004676782060414553, 0.014869008213281631, 0.005554070230573416, 0.029329350218176842, 0.023603584617376328, -0.05603460595011711, 0.0008573964005336165, -0.031903043389320374, 0.03844982013106346, -0.025926409289240837, -0.03757981210947037, -0.002069557085633278, -0.015511464327573776, 0.015505114570260048, -0.032539620995521545, 0.027967555448412895, 0.005709975026547909, 0.020289434120059013, -0.0066245682537555695, 0.04196034371852875, 0.03180774673819542, 0.012263601645827293, -0.04918663948774338, -0.004141606390476227, 0.04068808630108833, -0.05603460595011711, 0.0006088446825742722, 0.03268957510590553, -0.028347313404083252, -0.01782432571053505, -0.007095981389284134, -0.0011107891332358122, -0.017916511744260788, 0.038189396262168884, -0.05677429959177971, -0.032539620995521545, -0.03397752344608307, 0.03627309948205948, 0.058030467480421066, 0.046073321253061295, -0.0053212689235806465, -0.0053212689235806465, -0.036103785037994385, -0.05677429959177971, 0.05610037222504616, -0.03370150551199913, -0.05221879109740257, 0.020201923325657845, -0.012185133062303066, -0.015511464327573776, 0.03988434001803398, -0.013410292565822601, -0.014248983934521675, 0.037717074155807495, 0.05484723672270775, -0.02359212003648281, 0.0045516639947891235, -0.04154733195900917, -0.03222345560789108, 0.055204156786203384, -0.027119439095258713, 0.049173496663570404, 0.012263601645827293, -0.0023674480617046356, -0.0023674480617046356, 0.0011815652251243591, 0.026018235832452774, -0.012161379680037498, -0.05880691483616829]}],\n",
       "                        {\"coloraxis\": {\"colorbar\": {\"title\": {\"text\": \"color\"}}, \"colorscale\": [[0.0, \"#0d0887\"], [0.1111111111111111, \"#46039f\"], [0.2222222222222222, \"#7201a8\"], [0.3333333333333333, \"#9c179e\"], [0.4444444444444444, \"#bd3786\"], [0.5555555555555556, \"#d8576b\"], [0.6666666666666666, \"#ed7953\"], [0.7777777777777778, \"#fb9f3a\"], [0.8888888888888888, \"#fdca26\"], [1.0, \"#f0f921\"]]}, \"legend\": {\"tracegroupgap\": 0}, \"margin\": {\"t\": 60}, \"scene\": {\"domain\": {\"x\": [0.0, 1.0], \"y\": [0.0, 1.0]}, \"xaxis\": {\"title\": {\"text\": \"0\"}}, \"yaxis\": {\"title\": {\"text\": \"1\"}}, \"zaxis\": {\"title\": {\"text\": \"2\"}}}, \"template\": {\"data\": {\"bar\": [{\"error_x\": {\"color\": \"#2a3f5f\"}, \"error_y\": {\"color\": \"#2a3f5f\"}, \"marker\": {\"line\": {\"color\": \"#E5ECF6\", \"width\": 0.5}}, \"type\": \"bar\"}], \"barpolar\": [{\"marker\": {\"line\": {\"color\": \"#E5ECF6\", \"width\": 0.5}}, \"type\": \"barpolar\"}], \"carpet\": [{\"aaxis\": {\"endlinecolor\": \"#2a3f5f\", \"gridcolor\": \"white\", \"linecolor\": \"white\", \"minorgridcolor\": \"white\", \"startlinecolor\": \"#2a3f5f\"}, \"baxis\": {\"endlinecolor\": \"#2a3f5f\", \"gridcolor\": \"white\", \"linecolor\": \"white\", \"minorgridcolor\": \"white\", \"startlinecolor\": \"#2a3f5f\"}, \"type\": \"carpet\"}], \"choropleth\": [{\"colorbar\": {\"outlinewidth\": 0, \"ticks\": \"\"}, \"type\": \"choropleth\"}], \"contour\": [{\"colorbar\": {\"outlinewidth\": 0, \"ticks\": \"\"}, \"colorscale\": [[0.0, \"#0d0887\"], [0.1111111111111111, \"#46039f\"], [0.2222222222222222, \"#7201a8\"], [0.3333333333333333, \"#9c179e\"], [0.4444444444444444, \"#bd3786\"], [0.5555555555555556, \"#d8576b\"], [0.6666666666666666, \"#ed7953\"], [0.7777777777777778, \"#fb9f3a\"], [0.8888888888888888, \"#fdca26\"], [1.0, \"#f0f921\"]], \"type\": \"contour\"}], \"contourcarpet\": [{\"colorbar\": {\"outlinewidth\": 0, \"ticks\": \"\"}, \"type\": \"contourcarpet\"}], \"heatmap\": [{\"colorbar\": {\"outlinewidth\": 0, \"ticks\": \"\"}, \"colorscale\": [[0.0, \"#0d0887\"], [0.1111111111111111, \"#46039f\"], [0.2222222222222222, \"#7201a8\"], [0.3333333333333333, \"#9c179e\"], [0.4444444444444444, \"#bd3786\"], [0.5555555555555556, \"#d8576b\"], [0.6666666666666666, \"#ed7953\"], [0.7777777777777778, \"#fb9f3a\"], [0.8888888888888888, \"#fdca26\"], [1.0, \"#f0f921\"]], \"type\": \"heatmap\"}], \"heatmapgl\": [{\"colorbar\": {\"outlinewidth\": 0, \"ticks\": \"\"}, \"colorscale\": [[0.0, \"#0d0887\"], [0.1111111111111111, \"#46039f\"], [0.2222222222222222, \"#7201a8\"], [0.3333333333333333, \"#9c179e\"], [0.4444444444444444, \"#bd3786\"], [0.5555555555555556, \"#d8576b\"], [0.6666666666666666, \"#ed7953\"], [0.7777777777777778, \"#fb9f3a\"], [0.8888888888888888, \"#fdca26\"], [1.0, \"#f0f921\"]], \"type\": \"heatmapgl\"}], \"histogram\": [{\"marker\": {\"colorbar\": {\"outlinewidth\": 0, \"ticks\": \"\"}}, \"type\": \"histogram\"}], \"histogram2d\": [{\"colorbar\": {\"outlinewidth\": 0, \"ticks\": \"\"}, \"colorscale\": [[0.0, \"#0d0887\"], [0.1111111111111111, \"#46039f\"], [0.2222222222222222, \"#7201a8\"], [0.3333333333333333, \"#9c179e\"], [0.4444444444444444, \"#bd3786\"], [0.5555555555555556, \"#d8576b\"], [0.6666666666666666, \"#ed7953\"], [0.7777777777777778, \"#fb9f3a\"], [0.8888888888888888, \"#fdca26\"], [1.0, \"#f0f921\"]], \"type\": \"histogram2d\"}], \"histogram2dcontour\": [{\"colorbar\": {\"outlinewidth\": 0, \"ticks\": \"\"}, \"colorscale\": [[0.0, \"#0d0887\"], [0.1111111111111111, \"#46039f\"], [0.2222222222222222, \"#7201a8\"], [0.3333333333333333, \"#9c179e\"], [0.4444444444444444, \"#bd3786\"], [0.5555555555555556, \"#d8576b\"], [0.6666666666666666, \"#ed7953\"], [0.7777777777777778, \"#fb9f3a\"], [0.8888888888888888, \"#fdca26\"], [1.0, \"#f0f921\"]], \"type\": \"histogram2dcontour\"}], \"mesh3d\": [{\"colorbar\": {\"outlinewidth\": 0, \"ticks\": \"\"}, \"type\": \"mesh3d\"}], \"parcoords\": [{\"line\": {\"colorbar\": {\"outlinewidth\": 0, \"ticks\": \"\"}}, \"type\": \"parcoords\"}], \"pie\": [{\"automargin\": true, \"type\": \"pie\"}], \"scatter\": [{\"marker\": {\"colorbar\": {\"outlinewidth\": 0, \"ticks\": \"\"}}, \"type\": \"scatter\"}], \"scatter3d\": [{\"line\": {\"colorbar\": {\"outlinewidth\": 0, \"ticks\": \"\"}}, \"marker\": {\"colorbar\": {\"outlinewidth\": 0, \"ticks\": \"\"}}, \"type\": \"scatter3d\"}], \"scattercarpet\": [{\"marker\": {\"colorbar\": {\"outlinewidth\": 0, \"ticks\": \"\"}}, \"type\": \"scattercarpet\"}], \"scattergeo\": [{\"marker\": {\"colorbar\": {\"outlinewidth\": 0, \"ticks\": \"\"}}, \"type\": \"scattergeo\"}], \"scattergl\": [{\"marker\": {\"colorbar\": {\"outlinewidth\": 0, \"ticks\": \"\"}}, \"type\": \"scattergl\"}], \"scattermapbox\": [{\"marker\": {\"colorbar\": {\"outlinewidth\": 0, \"ticks\": \"\"}}, \"type\": \"scattermapbox\"}], \"scatterpolar\": [{\"marker\": {\"colorbar\": {\"outlinewidth\": 0, \"ticks\": \"\"}}, \"type\": \"scatterpolar\"}], \"scatterpolargl\": [{\"marker\": {\"colorbar\": {\"outlinewidth\": 0, \"ticks\": \"\"}}, \"type\": \"scatterpolargl\"}], \"scatterternary\": [{\"marker\": {\"colorbar\": {\"outlinewidth\": 0, \"ticks\": \"\"}}, \"type\": \"scatterternary\"}], \"surface\": [{\"colorbar\": {\"outlinewidth\": 0, \"ticks\": \"\"}, \"colorscale\": [[0.0, \"#0d0887\"], [0.1111111111111111, \"#46039f\"], [0.2222222222222222, \"#7201a8\"], [0.3333333333333333, \"#9c179e\"], [0.4444444444444444, \"#bd3786\"], [0.5555555555555556, \"#d8576b\"], [0.6666666666666666, \"#ed7953\"], [0.7777777777777778, \"#fb9f3a\"], [0.8888888888888888, \"#fdca26\"], [1.0, \"#f0f921\"]], \"type\": \"surface\"}], \"table\": [{\"cells\": {\"fill\": {\"color\": \"#EBF0F8\"}, \"line\": {\"color\": \"white\"}}, \"header\": {\"fill\": {\"color\": \"#C8D4E3\"}, \"line\": {\"color\": \"white\"}}, \"type\": \"table\"}]}, \"layout\": {\"annotationdefaults\": {\"arrowcolor\": \"#2a3f5f\", \"arrowhead\": 0, \"arrowwidth\": 1}, \"coloraxis\": {\"colorbar\": {\"outlinewidth\": 0, \"ticks\": \"\"}}, \"colorscale\": {\"diverging\": [[0, \"#8e0152\"], [0.1, \"#c51b7d\"], [0.2, \"#de77ae\"], [0.3, \"#f1b6da\"], [0.4, \"#fde0ef\"], [0.5, \"#f7f7f7\"], [0.6, \"#e6f5d0\"], [0.7, \"#b8e186\"], [0.8, \"#7fbc41\"], [0.9, \"#4d9221\"], [1, \"#276419\"]], \"sequential\": [[0.0, \"#0d0887\"], [0.1111111111111111, \"#46039f\"], [0.2222222222222222, \"#7201a8\"], [0.3333333333333333, \"#9c179e\"], [0.4444444444444444, \"#bd3786\"], [0.5555555555555556, \"#d8576b\"], [0.6666666666666666, \"#ed7953\"], [0.7777777777777778, \"#fb9f3a\"], [0.8888888888888888, \"#fdca26\"], [1.0, \"#f0f921\"]], \"sequentialminus\": [[0.0, \"#0d0887\"], [0.1111111111111111, \"#46039f\"], [0.2222222222222222, \"#7201a8\"], [0.3333333333333333, \"#9c179e\"], [0.4444444444444444, \"#bd3786\"], [0.5555555555555556, \"#d8576b\"], [0.6666666666666666, \"#ed7953\"], [0.7777777777777778, \"#fb9f3a\"], [0.8888888888888888, \"#fdca26\"], [1.0, \"#f0f921\"]]}, \"colorway\": [\"#636efa\", \"#EF553B\", \"#00cc96\", \"#ab63fa\", \"#FFA15A\", \"#19d3f3\", \"#FF6692\", \"#B6E880\", \"#FF97FF\", \"#FECB52\"], \"font\": {\"color\": \"#2a3f5f\"}, \"geo\": {\"bgcolor\": \"white\", \"lakecolor\": \"white\", \"landcolor\": \"#E5ECF6\", \"showlakes\": true, \"showland\": true, \"subunitcolor\": \"white\"}, \"hoverlabel\": {\"align\": \"left\"}, \"hovermode\": \"closest\", \"mapbox\": {\"style\": \"light\"}, \"paper_bgcolor\": \"white\", \"plot_bgcolor\": \"#E5ECF6\", \"polar\": {\"angularaxis\": {\"gridcolor\": \"white\", \"linecolor\": \"white\", \"ticks\": \"\"}, \"bgcolor\": \"#E5ECF6\", \"radialaxis\": {\"gridcolor\": \"white\", \"linecolor\": \"white\", \"ticks\": \"\"}}, \"scene\": {\"xaxis\": {\"backgroundcolor\": \"#E5ECF6\", \"gridcolor\": \"white\", \"gridwidth\": 2, \"linecolor\": \"white\", \"showbackground\": true, \"ticks\": \"\", \"zerolinecolor\": \"white\"}, \"yaxis\": {\"backgroundcolor\": \"#E5ECF6\", \"gridcolor\": \"white\", \"gridwidth\": 2, \"linecolor\": \"white\", \"showbackground\": true, \"ticks\": \"\", \"zerolinecolor\": \"white\"}, \"zaxis\": {\"backgroundcolor\": \"#E5ECF6\", \"gridcolor\": \"white\", \"gridwidth\": 2, \"linecolor\": \"white\", \"showbackground\": true, \"ticks\": \"\", \"zerolinecolor\": \"white\"}}, \"shapedefaults\": {\"line\": {\"color\": \"#2a3f5f\"}}, \"ternary\": {\"aaxis\": {\"gridcolor\": \"white\", \"linecolor\": \"white\", \"ticks\": \"\"}, \"baxis\": {\"gridcolor\": \"white\", \"linecolor\": \"white\", \"ticks\": \"\"}, \"bgcolor\": \"#E5ECF6\", \"caxis\": {\"gridcolor\": \"white\", \"linecolor\": \"white\", \"ticks\": \"\"}}, \"title\": {\"x\": 0.05}, \"xaxis\": {\"automargin\": true, \"gridcolor\": \"white\", \"linecolor\": \"white\", \"ticks\": \"\", \"title\": {\"standoff\": 15}, \"zerolinecolor\": \"white\", \"zerolinewidth\": 2}, \"yaxis\": {\"automargin\": true, \"gridcolor\": \"white\", \"linecolor\": \"white\", \"ticks\": \"\", \"title\": {\"standoff\": 15}, \"zerolinecolor\": \"white\", \"zerolinewidth\": 2}}}},\n",
       "                        {\"responsive\": true}\n",
       "                    ).then(function(){\n",
       "                            \n",
       "var gd = document.getElementById('f5e938b0-5a3a-4f3f-bb19-c4302dc39990');\n",
       "var x = new MutationObserver(function (mutations, observer) {{\n",
       "        var display = window.getComputedStyle(gd).display;\n",
       "        if (!display || display === 'none') {{\n",
       "            console.log([gd, 'removed!']);\n",
       "            Plotly.purge(gd);\n",
       "            observer.disconnect();\n",
       "        }}\n",
       "}});\n",
       "\n",
       "// Listen for the removal of the full notebook cells\n",
       "var notebookContainer = gd.closest('#notebook-container');\n",
       "if (notebookContainer) {{\n",
       "    x.observe(notebookContainer, {childList: true});\n",
       "}}\n",
       "\n",
       "// Listen for the clearing of the current output cell\n",
       "var outputEl = gd.closest('.output');\n",
       "if (outputEl) {{\n",
       "    x.observe(outputEl, {childList: true});\n",
       "}}\n",
       "\n",
       "                        })\n",
       "                };\n",
       "                });\n",
       "            </script>\n",
       "        </div>"
      ]
     },
     "metadata": {},
     "output_type": "display_data"
    }
   ],
   "source": [
    "plot_embeded_text(model,tokenizer,X_features=X,y_results=data_file['stars'])"
   ]
  },
  {
   "cell_type": "code",
   "execution_count": 48,
   "metadata": {},
   "outputs": [
    {
     "ename": "NameError",
     "evalue": "name 'words_inorder' is not defined",
     "output_type": "error",
     "traceback": [
      "\u001b[0;31m---------------------------------------------------------------------------\u001b[0m",
      "\u001b[0;31mNameError\u001b[0m                                 Traceback (most recent call last)",
      "\u001b[0;32m<ipython-input-48-55403dcadb20>\u001b[0m in \u001b[0;36m<module>\u001b[0;34m\u001b[0m\n\u001b[0;32m----> 1\u001b[0;31m \u001b[0mwords_inorder\u001b[0m\u001b[0;34m\u001b[0m\u001b[0;34m\u001b[0m\u001b[0m\n\u001b[0m",
      "\u001b[0;31mNameError\u001b[0m: name 'words_inorder' is not defined"
     ]
    }
   ],
   "source": [
    "words_inorder"
   ]
  },
  {
   "cell_type": "markdown",
   "metadata": {},
   "source": [
    "### 1.Embedding layer: trainable, tuning output dimentions"
   ]
  },
  {
   "cell_type": "code",
   "execution_count": null,
   "metadata": {
    "scrolled": false
   },
   "outputs": [],
   "source": [
    "for i in range(1,6):\n",
    "    \n",
    "    EMBEDDING_DIM = round(EMBEDDING_DIM/i)\n",
    "    \n",
    "    model = Sequential()\n",
    "    # the size of the vocabulary is len + 1, since 0 is also a word\n",
    "    model.add(Embedding(count_unique+1, output_dim=EMBEDDING_DIM, input_length=MAX_SEQUENCE_LENGTH)) \n",
    "    model.add(Flatten())\n",
    "    model.add(Dense(5,activation='softmax'))\n",
    "\n",
    "    nlp = NLP_training(f'trainable WE ({EMBEDDING_DIM}d)', model)\n",
    "    if i == 5:\n",
    "        nlp.fit_plot(X_train, y_train, X_test, y_test, verbose=0)\n",
    "    else:\n",
    "        nlp.fit_plot(X_train, y_train, X_test, y_test, verbose=0, plot_bar=False)"
   ]
  },
  {
   "cell_type": "markdown",
   "metadata": {},
   "source": [
    "### 1.Embedding layer: trainable + regularizer"
   ]
  },
  {
   "cell_type": "code",
   "execution_count": null,
   "metadata": {},
   "outputs": [],
   "source": [
    "for i in [1e-2,1e-3,1e-4,0.0]:\n",
    "    model = Sequential()\n",
    "    model.add(Embedding(count_unique+1, output_dim=5,\n",
    "                        input_length=MAX_SEQUENCE_LENGTH, embeddings_regularizer=regularizers.l2(i))) \n",
    "    model.add(Flatten())\n",
    "    model.add(Dense(5,activation='softmax'))\n",
    "\n",
    "    nlp = NLP_training(f'tranable WE (1d) + l2_{i}', model)\n",
    "    nlp.fit_plot(X_train, y_train, X_test, y_test, verbose=0)\n",
    "    if i == 0.0:\n",
    "        nlp.fit_plot(X_train, y_train, X_test, y_test, verbose=0)\n",
    "    else:\n",
    "        nlp.fit_plot(X_train, y_train, X_test, y_test, verbose=0, plot_bar=False)"
   ]
  },
  {
   "cell_type": "markdown",
   "metadata": {},
   "source": [
    "### 1.Embedding + Dense Layer"
   ]
  },
  {
   "cell_type": "code",
   "execution_count": null,
   "metadata": {
    "scrolled": true
   },
   "outputs": [],
   "source": [
    "model = Sequential()\n",
    "model.add(Embedding(count_unique+1, output_dim=EMBEDDING_DIM, input_length=MAX_SEQUENCE_LENGTH,\n",
    "                    embeddings_regularizer=regularizers.l2(0.1))) \n",
    "model.add(Dense(50))\n",
    "model.add(Flatten())\n",
    "model.add(Dense(1,activation='sigmoid'))\n",
    "\n",
    "nlp = NLP_training('tranable WE (1d) + l2_0.1 + Dense(units=50)', model)\n",
    "nlp.fit_plot(X_train, y_train, X_test, y_test, verbose=0)"
   ]
  },
  {
   "cell_type": "markdown",
   "metadata": {},
   "source": [
    "### 2. LSTM"
   ]
  },
  {
   "cell_type": "code",
   "execution_count": null,
   "metadata": {},
   "outputs": [],
   "source": [
    "model = Sequential()\n",
    "model.add(Embedding(count_unique+1, output_dim=EMBEDDING_DIM,\n",
    "                    input_length=MAX_SEQUENCE_LENGTH, embeddings_regularizer=regularizers.l2(0.1))) \n",
    "model.add(LSTM(1,return_sequences=True))\n",
    "model.add(Flatten())\n",
    "model.add(Dense(1,activation='sigmoid'))\n",
    "\n",
    "nlp = NLP_training('tranable WE (1d) + l2_0.1 + LSTM(units=1)', model)\n",
    "nlp.fit_plot(X_train, y_train, X_test, y_test, verbose=0)"
   ]
  },
  {
   "cell_type": "markdown",
   "metadata": {},
   "source": [
    "### 2. GRU"
   ]
  },
  {
   "cell_type": "code",
   "execution_count": null,
   "metadata": {
    "scrolled": false
   },
   "outputs": [],
   "source": [
    "model = Sequential()\n",
    "model.add(Embedding(count_unique+1, output_dim=EMBEDDING_DIM, input_length=MAX_SEQUENCE_LENGTH)) \n",
    "model.add(GRU(1,return_sequences=True))\n",
    "model.add(Dropout(0.5))\n",
    "model.add(Flatten())\n",
    "model.add(Dense(1,activation='sigmoid'))\n",
    "\n",
    "nlp = NLP_training('tranable WE(1d) + GRU(units=1)', model)\n",
    "nlp.fit_plot(X_train, y_train, X_test, y_test, verbose=0)"
   ]
  },
  {
   "cell_type": "code",
   "execution_count": null,
   "metadata": {},
   "outputs": [],
   "source": []
  },
  {
   "cell_type": "code",
   "execution_count": null,
   "metadata": {
    "scrolled": true
   },
   "outputs": [],
   "source": [
    "model = Sequential()\n",
    "model.add(Embedding(count_unique+1, output_dim=EMBEDDING_DIM, input_length=MAX_SEQUENCE_LENGTH)) \n",
    "model.add(LSTM(1,kernel_regularizer=regularizers.l2(0.001), return_sequences=True))\n",
    "model.add(Dropout(0.5))\n",
    "model.add(Flatten())\n",
    "model.add(Dense(1,activation='sigmoid'))\n",
    "\n",
    "nlp = NLP_training('tranable WE (1d) + LSTM(units=1) + l2_0.001', model)\n",
    "nlp.fit_plot(X_train, y_train, X_test, y_test, verbose=0)"
   ]
  },
  {
   "cell_type": "code",
   "execution_count": null,
   "metadata": {},
   "outputs": [],
   "source": []
  },
  {
   "cell_type": "code",
   "execution_count": null,
   "metadata": {},
   "outputs": [],
   "source": []
  },
  {
   "cell_type": "code",
   "execution_count": null,
   "metadata": {},
   "outputs": [],
   "source": []
  },
  {
   "cell_type": "code",
   "execution_count": null,
   "metadata": {},
   "outputs": [],
   "source": []
  },
  {
   "cell_type": "code",
   "execution_count": null,
   "metadata": {},
   "outputs": [],
   "source": []
  },
  {
   "cell_type": "code",
   "execution_count": null,
   "metadata": {},
   "outputs": [],
   "source": []
  },
  {
   "cell_type": "code",
   "execution_count": null,
   "metadata": {},
   "outputs": [],
   "source": []
  },
  {
   "cell_type": "code",
   "execution_count": null,
   "metadata": {},
   "outputs": [],
   "source": []
  },
  {
   "cell_type": "code",
   "execution_count": null,
   "metadata": {},
   "outputs": [],
   "source": []
  },
  {
   "cell_type": "code",
   "execution_count": null,
   "metadata": {},
   "outputs": [],
   "source": []
  },
  {
   "cell_type": "code",
   "execution_count": null,
   "metadata": {},
   "outputs": [],
   "source": []
  },
  {
   "cell_type": "code",
   "execution_count": null,
   "metadata": {},
   "outputs": [],
   "source": []
  },
  {
   "cell_type": "code",
   "execution_count": null,
   "metadata": {},
   "outputs": [],
   "source": []
  },
  {
   "cell_type": "code",
   "execution_count": null,
   "metadata": {},
   "outputs": [],
   "source": []
  },
  {
   "cell_type": "markdown",
   "metadata": {},
   "source": [
    "### 1.Embedding layer: Pre-trained: Global Vectors for Word Representation (GloVe:Wikipedia 2014 + Gigaword 5)"
   ]
  },
  {
   "cell_type": "code",
   "execution_count": null,
   "metadata": {},
   "outputs": [],
   "source": [
    "embeddings_index = {}\n",
    "with open(os.path.join(GLOVE_DIR, 'glove.6B.100d.txt')) as f:\n",
    "    for line in f:\n",
    "        word, coefs = line.split(maxsplit=1)\n",
    "        coefs = np.fromstring(coefs, 'f', sep=' ')\n",
    "        embeddings_index[word] = coefs"
   ]
  },
  {
   "cell_type": "code",
   "execution_count": null,
   "metadata": {},
   "outputs": [],
   "source": [
    "embedding_matrix = np.zeros((count_unique+1, EMBEDDING_DIM))\n",
    "for word, i in tokenizer.word_index.items():\n",
    "    embedding_vector = embeddings_index.get(word)\n",
    "    if embedding_vector is not None:\n",
    "        embedding_matrix[i] = embedding_vector"
   ]
  },
  {
   "cell_type": "code",
   "execution_count": null,
   "metadata": {},
   "outputs": [],
   "source": [
    "model = Sequential()\n",
    "model.add(Embedding(count_unique+1, output_dim=EMBEDDING_DIM, input_length=MAX_SEQUENCE_LENGTH,\n",
    "                    trainable=False, weights=[embedding_matrix])) \n",
    "model.add(Flatten())\n",
    "model.add(Dense(1,activation='sigmoid'))\n",
    "\n",
    "nlp = NLP_training('GloVe WE', model)\n",
    "nlp.fit_plot(X_train, y_train, X_test, y_test, verbose=0)"
   ]
  },
  {
   "cell_type": "markdown",
   "metadata": {},
   "source": [
    "### 1.Embedding layer: Pre-trained: Global Vectors for Word Representation (GloVe:Twitter)"
   ]
  },
  {
   "cell_type": "code",
   "execution_count": null,
   "metadata": {},
   "outputs": [],
   "source": [
    "embeddings_index = {}\n",
    "with open(os.path.join(GLOVE_DIR, 'glove.twitter.27B.100d.txt')) as f:\n",
    "    for line in f:\n",
    "        word, coefs = line.split(maxsplit=1)\n",
    "        coefs = np.fromstring(coefs, 'f', sep=' ')\n",
    "        embeddings_index[word] = coefs"
   ]
  },
  {
   "cell_type": "code",
   "execution_count": null,
   "metadata": {},
   "outputs": [],
   "source": [
    "embedding_matrix = np.zeros((count_unique+1, EMBEDDING_DIM))\n",
    "for word, i in tokenizer.word_index.items():\n",
    "    embedding_vector = embeddings_index.get(word)\n",
    "    if embedding_vector is not None:\n",
    "        embedding_matrix[i] = embedding_vector"
   ]
  },
  {
   "cell_type": "code",
   "execution_count": null,
   "metadata": {},
   "outputs": [],
   "source": [
    "model = Sequential()\n",
    "model.add(Embedding(count_unique+1, output_dim=EMBEDDING_DIM, input_length=MAX_SEQUENCE_LENGTH,\n",
    "                    trainable=False, weights=[embedding_matrix])) \n",
    "model.add(Flatten())\n",
    "model.add(Dense(1,activation='sigmoid'))\n",
    "\n",
    "nlp = NLP_training('GloVe(Twitter) WE', model)\n",
    "nlp.fit_plot(X_train, y_train, X_test, y_test, verbose=0)"
   ]
  },
  {
   "cell_type": "code",
   "execution_count": null,
   "metadata": {},
   "outputs": [],
   "source": []
  },
  {
   "cell_type": "code",
   "execution_count": null,
   "metadata": {},
   "outputs": [],
   "source": []
  },
  {
   "cell_type": "code",
   "execution_count": null,
   "metadata": {},
   "outputs": [],
   "source": []
  },
  {
   "cell_type": "markdown",
   "metadata": {},
   "source": [
    "model = Sequential()\n",
    "model.add(Embedding(count_unique+1, seq_len, input_length=seq_len)) # rescale the unique number for each token to be small decimal for nomalization; this has to be the first layer\n",
    "model.add(LSTM(seq_len,return_sequences=True))\n",
    "model.add(Dropout(0.5))\n",
    "#model.add(LSTM(round(seq_len/5)))\n",
    "#model.add(Dense(50,activation='relu'))\n",
    "#model.add(Dropout(0.5))\n",
    "model.add(Flatten())\n",
    "model.add(Dense(1,activation='sigmoid'))\n",
    "\n",
    "model.compile(loss='binary_crossentropy', optimizer='adam', metrics=['accuracy'])\n",
    "\n",
    "model.summary()"
   ]
  },
  {
   "cell_type": "markdown",
   "metadata": {},
   "source": [
    "history = model.fit(X_train,y_train,\n",
    "                    batch_size=128,\n",
    "                    epochs=50,\n",
    "                    verbose=0,\n",
    "                    validation_data=(X_test, y_test),\n",
    "                    callbacks=[early_stop]\n",
    "                   )\n",
    "model.save('keras_lstm.h5')\n",
    "data_history = pd.DataFrame(history.history)\n",
    "data_history[['loss','val_loss']].plot()"
   ]
  },
  {
   "cell_type": "markdown",
   "metadata": {},
   "source": [
    "dump(tokenizer,open('keras_lstm_tokenizer','wb'))\n",
    "model = load_model('keras_lstm.h5')\n",
    "tokenizer = load(open('keras_lstm_tokenizer','br'))"
   ]
  },
  {
   "cell_type": "code",
   "execution_count": null,
   "metadata": {},
   "outputs": [],
   "source": [
    "test = ['very nice food','terrible','I didn''t waited so long for this meal', 'We waited for so long']\n",
    "test_encoded = tokenizer.texts_to_sequences(test)\n",
    "test_padded = pad_sequences(test_encoded, maxlen=100, padding='post')\n",
    "model.predict_classes(test_padded)"
   ]
  },
  {
   "cell_type": "code",
   "execution_count": null,
   "metadata": {},
   "outputs": [],
   "source": [
    "loss, accuracy = model.evaluate(X_test, y_test, verbose=0)\n",
    "print('Accuracy: %f' % (accuracy*100))"
   ]
  },
  {
   "cell_type": "code",
   "execution_count": null,
   "metadata": {},
   "outputs": [],
   "source": [
    "X_test[0:1]"
   ]
  },
  {
   "cell_type": "code",
   "execution_count": null,
   "metadata": {},
   "outputs": [],
   "source": [
    "print(model.predict_classes(X_test[0:2]),y_test[0:2])"
   ]
  },
  {
   "cell_type": "code",
   "execution_count": null,
   "metadata": {},
   "outputs": [],
   "source": []
  }
 ],
 "metadata": {
  "kernelspec": {
   "display_name": "Python 3",
   "language": "python",
   "name": "python3"
  },
  "language_info": {
   "codemirror_mode": {
    "name": "ipython",
    "version": 3
   },
   "file_extension": ".py",
   "mimetype": "text/x-python",
   "name": "python",
   "nbconvert_exporter": "python",
   "pygments_lexer": "ipython3",
   "version": "3.7.7"
  }
 },
 "nbformat": 4,
 "nbformat_minor": 4
}
