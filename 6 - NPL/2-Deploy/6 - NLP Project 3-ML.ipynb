{
 "cells": [
  {
   "cell_type": "markdown",
   "metadata": {},
   "source": [
    "## Import common libraries"
   ]
  },
  {
   "cell_type": "code",
   "execution_count": 4,
   "metadata": {},
   "outputs": [
    {
     "name": "stdout",
     "output_type": "stream",
     "text": [
      "{'svm': {'mean': 0.9408124066301486, '1': 0.8202247191011235, '5': 0.9645746402111897}, 'svm-pickel': {'mean': 0.9408124066301486, '1': 0.8202247191011235, '5': 0.9645746402111897}}\n"
     ]
    }
   ],
   "source": [
    "import numpy as np\n",
    "import matplotlib.pyplot as plt\n",
    "import pandas as pd\n",
    "import seaborn as sns\n",
    "import pickle\n",
    "from IPython.display import display, HTML\n",
    "from sklearn.feature_extraction.text import CountVectorizer\n",
    "from sklearn.model_selection import train_test_split\n",
    "from sklearn.metrics import confusion_matrix,classification_report\n",
    "from sklearn.svm import SVC,LinearSVC\n",
    "from sklearn.pipeline import Pipeline\n",
    "%matplotlib inline\n",
    "\n",
    "yelp = pd.read_csv('../yelp_training_set_review(with text_length and transformed).csv')\n",
    "\n",
    "yelp['text_transformed'] = yelp['text_transformed'].astype('str')\n",
    "\n",
    "yelp_class = yelp[(yelp.stars==1) | (yelp.stars==5)].copy()\n",
    "\n",
    "yelp_class.dropna(inplace=True)\n",
    "\n",
    "yelp_class = yelp_class.sample(frac=0.1, random_state=101)\n",
    "\n",
    "X = yelp_class['text_transformed']\n",
    "y = yelp_class['stars']\n",
    "\n",
    "X_train, X_test, y_train, y_test = train_test_split(X, y, test_size=0.3, random_state=101)\n",
    "\n",
    "pipeline = Pipeline([\n",
    "    ('vect', CountVectorizer(ngram_range=(1,2))),\n",
    "    ('svm', SVC())\n",
    "])\n",
    "\n",
    "pipeline.fit(X_train,y_train)\n",
    "y_pred_svm = pipeline.predict(X_test)\n",
    "\n",
    "compare_models = {}\n",
    "model_name = 'svm'\n",
    "compare_models[model_name] = {'mean':pipeline.score(X_test,y_test)}\n",
    "for i in ['1','5']:\n",
    "    compare_models[model_name][i]=classification_report(y_test,y_pred_svm,output_dict=True)[i]['f1-score']\n",
    "\n",
    "pickle.dump(pipeline, open('model_svm.pkl','wb'))\n",
    "\n",
    "model = pickle.load(open('model_svm.pkl','rb'))\n",
    "y_pred_svm_pl = model.predict(X_test)\n",
    "\n",
    "model_name ='svm-pickel'\n",
    "compare_models[model_name] = {'mean':model.score(X_test,y_test)}\n",
    "for i in ['1','5']:\n",
    "    compare_models[model_name][i]=classification_report(y_test,y_pred_svm_pl,output_dict=True)[i]['f1-score']\n",
    "    \n",
    "print(compare_models)"
   ]
  },
  {
   "cell_type": "code",
   "execution_count": null,
   "metadata": {},
   "outputs": [],
   "source": []
  },
  {
   "cell_type": "code",
   "execution_count": 21,
   "metadata": {},
   "outputs": [
    {
     "name": "stdout",
     "output_type": "stream",
     "text": [
      "The predicted rating from this text probably is [5]\n"
     ]
    }
   ],
   "source": [
    "import pickle\n",
    "\n",
    "model = pickle.load(open('model_svm.pkl','rb'))\n",
    "\n",
    "print('The predicted rating from this text probably is {}'.format(model.predict(['This is a good place'])))\n"
   ]
  },
  {
   "cell_type": "code",
   "execution_count": 22,
   "metadata": {},
   "outputs": [
    {
     "name": "stdout",
     "output_type": "stream",
     "text": [
      "The predicted rating from this text probably is [1]\n"
     ]
    }
   ],
   "source": [
    "print('The predicted rating from this text probably is {}'.format(model.predict(['This is a terrible place'])))"
   ]
  },
  {
   "cell_type": "code",
   "execution_count": null,
   "metadata": {},
   "outputs": [],
   "source": []
  }
 ],
 "metadata": {
  "kernelspec": {
   "display_name": "Python 3",
   "language": "python",
   "name": "python3"
  },
  "language_info": {
   "codemirror_mode": {
    "name": "ipython",
    "version": 3
   },
   "file_extension": ".py",
   "mimetype": "text/x-python",
   "name": "python",
   "nbconvert_exporter": "python",
   "pygments_lexer": "ipython3",
   "version": "3.7.7"
  }
 },
 "nbformat": 4,
 "nbformat_minor": 1
}
